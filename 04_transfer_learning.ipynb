{
  "nbformat": 4,
  "nbformat_minor": 0,
  "metadata": {
    "colab": {
      "provenance": []
    },
    "kernelspec": {
      "name": "python3",
      "display_name": "Python 3"
    },
    "language_info": {
      "name": "python"
    },
    "gpuClass": "standard",
    "accelerator": "GPU"
  },
  "cells": [
    {
      "cell_type": "code",
      "execution_count": null,
      "metadata": {
        "id": "p4onbZ3KuwZg"
      },
      "outputs": [],
      "source": [
        "import pandas as pd\n",
        "import numpy as np\n",
        "import matplotlib.pyplot as plt\n",
        "import random\n",
        "import tensorflow as tf\n",
        "import zipfile"
      ]
    },
    {
      "cell_type": "code",
      "source": [
        "!wget https://storage.googleapis.com/ztm_tf_course/food_vision/10_food_classes_10_percent.zip\n",
        "zip_ref = zipfile.ZipFile(\"10_food_classes_10_percent.zip\")\n",
        "zip_ref.extractall()\n",
        "zip_ref.close()\n",
        "\n",
        "import os\n",
        "\n",
        "for dirpath,dirnames,filenames in os.walk('10_food_classes_10_percent'):\n",
        "  print(f'there are {len(dirnames)} directories and {len(filenames)} in {dirpath} directory')"
      ],
      "metadata": {
        "colab": {
          "base_uri": "https://localhost:8080/"
        },
        "id": "96fOj-mMvMMX",
        "outputId": "ae6b1df8-acfd-4eba-ba3d-712b3851dd14"
      },
      "execution_count": null,
      "outputs": [
        {
          "output_type": "stream",
          "name": "stdout",
          "text": [
            "--2022-11-25 15:23:55--  https://storage.googleapis.com/ztm_tf_course/food_vision/10_food_classes_10_percent.zip\n",
            "Resolving storage.googleapis.com (storage.googleapis.com)... 142.250.145.128, 173.194.79.128, 108.177.119.128, ...\n",
            "Connecting to storage.googleapis.com (storage.googleapis.com)|142.250.145.128|:443... connected.\n",
            "HTTP request sent, awaiting response... 200 OK\n",
            "Length: 168546183 (161M) [application/zip]\n",
            "Saving to: ‘10_food_classes_10_percent.zip’\n",
            "\n",
            "10_food_classes_10_ 100%[===================>] 160.74M  41.5MB/s    in 4.5s    \n",
            "\n",
            "2022-11-25 15:23:59 (35.8 MB/s) - ‘10_food_classes_10_percent.zip’ saved [168546183/168546183]\n",
            "\n",
            "there are 2 directories and 0 in 10_food_classes_10_percent directory\n",
            "there are 10 directories and 0 in 10_food_classes_10_percent/train directory\n",
            "there are 0 directories and 75 in 10_food_classes_10_percent/train/steak directory\n",
            "there are 0 directories and 75 in 10_food_classes_10_percent/train/chicken_wings directory\n",
            "there are 0 directories and 75 in 10_food_classes_10_percent/train/ice_cream directory\n",
            "there are 0 directories and 75 in 10_food_classes_10_percent/train/grilled_salmon directory\n",
            "there are 0 directories and 75 in 10_food_classes_10_percent/train/pizza directory\n",
            "there are 0 directories and 75 in 10_food_classes_10_percent/train/sushi directory\n",
            "there are 0 directories and 75 in 10_food_classes_10_percent/train/hamburger directory\n",
            "there are 0 directories and 75 in 10_food_classes_10_percent/train/chicken_curry directory\n",
            "there are 0 directories and 75 in 10_food_classes_10_percent/train/ramen directory\n",
            "there are 0 directories and 75 in 10_food_classes_10_percent/train/fried_rice directory\n",
            "there are 10 directories and 0 in 10_food_classes_10_percent/test directory\n",
            "there are 0 directories and 250 in 10_food_classes_10_percent/test/steak directory\n",
            "there are 0 directories and 250 in 10_food_classes_10_percent/test/chicken_wings directory\n",
            "there are 0 directories and 250 in 10_food_classes_10_percent/test/ice_cream directory\n",
            "there are 0 directories and 250 in 10_food_classes_10_percent/test/grilled_salmon directory\n",
            "there are 0 directories and 250 in 10_food_classes_10_percent/test/pizza directory\n",
            "there are 0 directories and 250 in 10_food_classes_10_percent/test/sushi directory\n",
            "there are 0 directories and 250 in 10_food_classes_10_percent/test/hamburger directory\n",
            "there are 0 directories and 250 in 10_food_classes_10_percent/test/chicken_curry directory\n",
            "there are 0 directories and 250 in 10_food_classes_10_percent/test/ramen directory\n",
            "there are 0 directories and 250 in 10_food_classes_10_percent/test/fried_rice directory\n"
          ]
        }
      ]
    },
    {
      "cell_type": "code",
      "source": [
        "from tensorflow.keras.preprocessing.image import ImageDataGenerator\n",
        "IMAGE_SHAPE = (224,224)\n",
        "BATCH_SIZE = 32\n",
        "train_dir = '10_food_classes_10_percent/train/'\n",
        "test_dir = '10_food_classes_10_percent/test/'\n",
        "train_datagen = ImageDataGenerator(rescale = 1/255.)\n",
        "test_datagen = ImageDataGenerator(rescale = 1/255.)\n",
        "\n",
        "train_data = train_datagen.flow_from_directory(train_dir,\n",
        "                                               batch_size = BATCH_SIZE,\n",
        "                                               class_mode = 'categorical',\n",
        "                                               target_size = IMAGE_SHAPE)\n",
        "test_data = test_datagen.flow_from_directory(test_dir,\n",
        "                                               batch_size = BATCH_SIZE,\n",
        "                                               class_mode = 'categorical',\n",
        "                                               target_size = IMAGE_SHAPE)\n",
        "\n"
      ],
      "metadata": {
        "colab": {
          "base_uri": "https://localhost:8080/"
        },
        "id": "zWm2GPoMx9bk",
        "outputId": "4dbc4636-e468-4589-b140-0640ed10ef09"
      },
      "execution_count": null,
      "outputs": [
        {
          "output_type": "stream",
          "name": "stdout",
          "text": [
            "Found 750 images belonging to 10 classes.\n",
            "Found 2500 images belonging to 10 classes.\n"
          ]
        }
      ]
    },
    {
      "cell_type": "code",
      "source": [
        "#Create tensorboard callback\n",
        "\n",
        "import datetime\n",
        "def create_tensorboard_callback(dir_name,experiment_name):\n",
        "  log_dir = dir_name + \"/\" + experiment_name +'/' + datetime.datetime.now().strftime('%Y%m%d-%H%M%S')\n",
        "  tensorboard_callback = tf.keras.callbacks.TensorBoard(log_dir = log_dir)\n",
        "  return tensorboard_callback\n",
        "\n"
      ],
      "metadata": {
        "id": "rz0H0V6czXj8"
      },
      "execution_count": null,
      "outputs": []
    },
    {
      "cell_type": "code",
      "source": [
        "import tensorflow_hub as hub\n",
        "from tensorflow.keras import layers\n",
        "\n",
        "efficientnet = \"https://tfhub.dev/tensorflow/efficientnet/b0/feature-vector/1\"\n",
        "resnet = \"https://tfhub.dev/google/imagenet/resnet_v2_50/feature_vector/5\"\n",
        "\n",
        "def create_model(url,num_classes):\n",
        "  model = tf.keras.Sequential([\n",
        "      hub.KerasLayer(url,\n",
        "                    trainable=False,\n",
        "                     name = 'feature_extraction_layer',\n",
        "                     input_shape = IMAGE_SHAPE + (3,)),  # Can be True, see below.\n",
        "      layers.Dense(num_classes, activation='softmax', name = 'output_layer')\n",
        "  ])\n",
        "  return model\n",
        "\n",
        "model_1 = create_model(efficientnet,10)\n",
        "model_2 = create_model(resnet,10)"
      ],
      "metadata": {
        "id": "KKYc0lCd3KNY"
      },
      "execution_count": null,
      "outputs": []
    },
    {
      "cell_type": "code",
      "source": [
        "model_1.summary()"
      ],
      "metadata": {
        "colab": {
          "base_uri": "https://localhost:8080/"
        },
        "id": "ekReeQsH5YP9",
        "outputId": "f0c0c1ed-13b7-4360-a3ca-b2c6f5b2ad73"
      },
      "execution_count": null,
      "outputs": [
        {
          "output_type": "stream",
          "name": "stdout",
          "text": [
            "Model: \"sequential\"\n",
            "_________________________________________________________________\n",
            " Layer (type)                Output Shape              Param #   \n",
            "=================================================================\n",
            " feature_extraction_layer (K  (None, 1280)             4049564   \n",
            " erasLayer)                                                      \n",
            "                                                                 \n",
            " output_layer (Dense)        (None, 10)                12810     \n",
            "                                                                 \n",
            "=================================================================\n",
            "Total params: 4,062,374\n",
            "Trainable params: 12,810\n",
            "Non-trainable params: 4,049,564\n",
            "_________________________________________________________________\n"
          ]
        }
      ]
    },
    {
      "cell_type": "code",
      "source": [
        "model_1 = create_model(efficientnet,10)\n",
        "model_1.compile(loss = 'categorical_crossentropy',\n",
        "                optimizer = tf.keras.optimizers.Adam(),\n",
        "                metrics = ['accuracy'])\n",
        "hisotry_1 = model_1.fit(train_data, epochs = 10, steps_per_epoch = len(train_data), validation_data = test_data, callbacks = [create_tensorboard_callback(dir_name = 'tensorflow_hub', experiment_name = 'resnet50V2')])"
      ],
      "metadata": {
        "colab": {
          "base_uri": "https://localhost:8080/"
        },
        "id": "CnxoBhDy9W5s",
        "outputId": "a6d10c98-e824-4007-eb86-e27e4da583ef"
      },
      "execution_count": null,
      "outputs": [
        {
          "output_type": "stream",
          "name": "stdout",
          "text": [
            "Epoch 1/10\n",
            "24/24 [==============================] - 34s 1s/step - loss: 1.8437 - accuracy: 0.4360 - val_loss: 1.3029 - val_accuracy: 0.7304\n",
            "Epoch 2/10\n",
            "24/24 [==============================] - 16s 698ms/step - loss: 1.0557 - accuracy: 0.7893 - val_loss: 0.8672 - val_accuracy: 0.8240\n",
            "Epoch 3/10\n",
            "24/24 [==============================] - 16s 695ms/step - loss: 0.7490 - accuracy: 0.8440 - val_loss: 0.6954 - val_accuracy: 0.8536\n",
            "Epoch 4/10\n",
            "24/24 [==============================] - 16s 669ms/step - loss: 0.5987 - accuracy: 0.8787 - val_loss: 0.6100 - val_accuracy: 0.8648\n",
            "Epoch 5/10\n",
            "24/24 [==============================] - 16s 684ms/step - loss: 0.5080 - accuracy: 0.8960 - val_loss: 0.5577 - val_accuracy: 0.8732\n",
            "Epoch 6/10\n",
            "24/24 [==============================] - 16s 683ms/step - loss: 0.4422 - accuracy: 0.9040 - val_loss: 0.5201 - val_accuracy: 0.8784\n",
            "Epoch 7/10\n",
            "24/24 [==============================] - 16s 670ms/step - loss: 0.3873 - accuracy: 0.9293 - val_loss: 0.4915 - val_accuracy: 0.8792\n",
            "Epoch 8/10\n",
            "24/24 [==============================] - 17s 716ms/step - loss: 0.3453 - accuracy: 0.9360 - val_loss: 0.4733 - val_accuracy: 0.8788\n",
            "Epoch 9/10\n",
            "24/24 [==============================] - 16s 671ms/step - loss: 0.3091 - accuracy: 0.9453 - val_loss: 0.4566 - val_accuracy: 0.8784\n",
            "Epoch 10/10\n",
            "24/24 [==============================] - 16s 674ms/step - loss: 0.2802 - accuracy: 0.9533 - val_loss: 0.4466 - val_accuracy: 0.8772\n"
          ]
        }
      ]
    },
    {
      "cell_type": "code",
      "source": [
        "import itertools\n",
        "def plot_loss_curves(history):\n",
        "  history_pd = pd.DataFrame(history.history)\n",
        "  loss = history_pd['loss']\n",
        "  accuracy = history_pd['accuracy']\n",
        "  val_loss = history_pd['val_loss']\n",
        "  val_accuracy = history_pd['val_accuracy']\n",
        "  fig,ax = plt.subplots(2, 2)\n",
        "  fig.set_size_inches(25, 20)\n",
        "  for i, j in itertools.product(range(2), range(2)):\n",
        "    ax[i,j].set_xlabel('epochs')\n",
        "  ax[0,0].plot(loss)\n",
        "  ax[0,0].set_title('loss')\n",
        "  ax[0,1].plot(accuracy)\n",
        "  ax[0,1].set_title('accuracy')\n",
        "  ax[1,0].plot(val_loss)\n",
        "  ax[1,0].set_title('val_loss')\n",
        "  ax[1,1].plot(val_accuracy)\n",
        "  ax[1,1].set_title('val_accuracy')\n",
        "  plt.show()"
      ],
      "metadata": {
        "id": "fMQibmmkAjNw"
      },
      "execution_count": null,
      "outputs": []
    },
    {
      "cell_type": "code",
      "source": [
        "plot_loss_curves(hisotry_1)"
      ],
      "metadata": {
        "colab": {
          "base_uri": "https://localhost:8080/",
          "height": 1000
        },
        "id": "hrZNxdf6Aurn",
        "outputId": "43cef539-22ed-4c1f-cdac-ed960e8167e4"
      },
      "execution_count": null,
      "outputs": [
        {
          "output_type": "display_data",
          "data": {
            "text/plain": [
              "<Figure size 1800x1440 with 4 Axes>"
            ],
            "image/png": "[encoded data removed]"
          },
          "metadata": {
            "needs_background": "light"
          }
        }
      ]
    },
    {
      "cell_type": "code",
      "source": [
        "model_2.compile(loss = 'categorical_crossentropy',\n",
        "                optimizer = tf.keras.optimizers.Adam(),\n",
        "                metrics = ['accuracy'])\n",
        "hisotry_2 = model_2.fit(train_data, epochs = 10, steps_per_epoch = len(train_data), validation_data = test_data, callbacks = [create_tensorboard_callback(dir_name = 'tensorflow_hub', experiment_name = 'efficient_net')])"
      ],
      "metadata": {
        "colab": {
          "base_uri": "https://localhost:8080/"
        },
        "id": "2lshvnUvBAxb",
        "outputId": "c594e2e2-c74a-47bc-939a-9372e4987350"
      },
      "execution_count": null,
      "outputs": [
        {
          "output_type": "stream",
          "name": "stdout",
          "text": [
            "Epoch 1/10\n",
            "24/24 [==============================] - 23s 794ms/step - loss: 1.9906 - accuracy: 0.3533 - val_loss: 1.2200 - val_accuracy: 0.6140\n",
            "Epoch 2/10\n",
            "24/24 [==============================] - 17s 712ms/step - loss: 0.9192 - accuracy: 0.7373 - val_loss: 0.8701 - val_accuracy: 0.7196\n",
            "Epoch 3/10\n",
            "24/24 [==============================] - 17s 717ms/step - loss: 0.6155 - accuracy: 0.8373 - val_loss: 0.7505 - val_accuracy: 0.7592\n",
            "Epoch 4/10\n",
            "24/24 [==============================] - 17s 715ms/step - loss: 0.4704 - accuracy: 0.8867 - val_loss: 0.7297 - val_accuracy: 0.7592\n",
            "Epoch 5/10\n",
            "24/24 [==============================] - 17s 719ms/step - loss: 0.3758 - accuracy: 0.9147 - val_loss: 0.6842 - val_accuracy: 0.7744\n",
            "Epoch 6/10\n",
            "24/24 [==============================] - 20s 850ms/step - loss: 0.3131 - accuracy: 0.9347 - val_loss: 0.6573 - val_accuracy: 0.7808\n",
            "Epoch 7/10\n",
            "24/24 [==============================] - 17s 742ms/step - loss: 0.2593 - accuracy: 0.9507 - val_loss: 0.6321 - val_accuracy: 0.7896\n",
            "Epoch 8/10\n",
            "24/24 [==============================] - 24s 1s/step - loss: 0.2178 - accuracy: 0.9680 - val_loss: 0.6266 - val_accuracy: 0.7940\n",
            "Epoch 9/10\n",
            "24/24 [==============================] - 21s 905ms/step - loss: 0.1884 - accuracy: 0.9787 - val_loss: 0.6251 - val_accuracy: 0.7888\n",
            "Epoch 10/10\n",
            "24/24 [==============================] - 17s 720ms/step - loss: 0.1635 - accuracy: 0.9840 - val_loss: 0.6133 - val_accuracy: 0.7944\n"
          ]
        }
      ]
    },
    {
      "cell_type": "code",
      "source": [
        "! tensorboard dev upload --logdir ./tensorflow_hub/ \\\n",
        "  --name \"Efficientnet vs resnet\"\\\n",
        "  --description \"Comparing models\"\\\n",
        "  --one_shot "
      ],
      "metadata": {
        "colab": {
          "base_uri": "https://localhost:8080/"
        },
        "id": "rB6ESqfWZiLf",
        "outputId": "c2174e4e-fce0-4f95-b76f-a860e8335028"
      },
      "execution_count": null,
      "outputs": [
        {
          "output_type": "stream",
          "name": "stdout",
          "text": [
            "\n",
            "New experiment created. View your TensorBoard at: https://tensorboard.dev/experiment/lRQFmyp0QHywJ2miLxASpw/\n",
            "\n",
            "\u001b[1m[2022-11-25T16:08:34]\u001b[0m Started scanning logdir.\n",
            "\u001b[1m[2022-11-25T16:08:43]\u001b[0m Total uploaded: 306 scalars, 0 tensors, 5 binary objects (14.9 MB)\n",
            "\u001b[1m[2022-11-25T16:08:43]\u001b[0m Done scanning logdir.\n",
            "\n",
            "\n",
            "Done. View your TensorBoard at https://tensorboard.dev/experiment/lRQFmyp0QHywJ2miLxASpw/\n"
          ]
        }
      ]
    },
    {
      "cell_type": "code",
      "source": [
        "!tensorboard dev list\n",
        "#delete experiment\n",
        "#!tensorboard dev delete --experiment_id /copyid/\n"
      ],
      "metadata": {
        "colab": {
          "base_uri": "https://localhost:8080/"
        },
        "id": "cX91s90qa1yf",
        "outputId": "dac9b059-69e4-4f9b-a851-ad5b7de29ef3"
      },
      "execution_count": null,
      "outputs": [
        {
          "output_type": "stream",
          "name": "stdout",
          "text": [
            "https://tensorboard.dev/experiment/UM40fEsEQWq8eQqiBBsGBA/\n",
            "\tName                 Efficientnet vs resnet\n",
            "\tDescription          Comparing models\n",
            "\tId                   UM40fEsEQWq8eQqiBBsGBA\n",
            "\tCreated              2022-11-25 15:34:55 (12 minutes ago)\n",
            "\tUpdated              2022-11-25 15:34:59 (12 minutes ago)\n",
            "\tRuns                 4\n",
            "\tTags                 5\n",
            "\tScalars              180\n",
            "\tTensor bytes         0\n",
            "\tBinary object bytes  5793947\n",
            "Total: 1 experiment(s)\n"
          ]
        }
      ]
    },
    {
      "cell_type": "code",
      "source": [
        "image_net = 'https://tfhub.dev/google/imagenet/mobilenet_v2_100_224/feature_vector/5'\n",
        "model_3 = create_model(image_net,10)\n",
        "model_3.compile(loss = 'categorical_crossentropy',\n",
        "                optimizer = tf.keras.optimizers.Adam(),\n",
        "                metrics = ['accuracy'])\n",
        "history_3 = model_3.fit(train_data,epochs= 10, steps_per_epoch = len(train_data), validation_data = test_data, validation_steps = len(test_data),callbacks = [create_tensorboard_callback(dir_name = 'tensorflow_hub', experiment_name = 'Image_Net')])"
      ],
      "metadata": {
        "colab": {
          "base_uri": "https://localhost:8080/"
        },
        "id": "R8tmqeVDbKMV",
        "outputId": "6f2027cc-52a7-4a01-ce4f-de7623578a95"
      },
      "execution_count": null,
      "outputs": [
        {
          "output_type": "stream",
          "name": "stdout",
          "text": [
            "Epoch 1/10\n",
            "24/24 [==============================] - 21s 725ms/step - loss: 1.9109 - accuracy: 0.3547 - val_loss: 1.2776 - val_accuracy: 0.6080\n",
            "Epoch 2/10\n",
            "24/24 [==============================] - 18s 776ms/step - loss: 1.0358 - accuracy: 0.7093 - val_loss: 0.8870 - val_accuracy: 0.7424\n",
            "Epoch 3/10\n",
            "24/24 [==============================] - 17s 713ms/step - loss: 0.7613 - accuracy: 0.7840 - val_loss: 0.7585 - val_accuracy: 0.7744\n",
            "Epoch 4/10\n",
            "24/24 [==============================] - 16s 697ms/step - loss: 0.6036 - accuracy: 0.8387 - val_loss: 0.6904 - val_accuracy: 0.7884\n",
            "Epoch 5/10\n",
            "24/24 [==============================] - 16s 697ms/step - loss: 0.5064 - accuracy: 0.8720 - val_loss: 0.6459 - val_accuracy: 0.7976\n",
            "Epoch 6/10\n",
            "24/24 [==============================] - 16s 686ms/step - loss: 0.4311 - accuracy: 0.9013 - val_loss: 0.6218 - val_accuracy: 0.8012\n",
            "Epoch 7/10\n",
            "24/24 [==============================] - 16s 697ms/step - loss: 0.3703 - accuracy: 0.9280 - val_loss: 0.6027 - val_accuracy: 0.8080\n",
            "Epoch 8/10\n",
            "24/24 [==============================] - 17s 712ms/step - loss: 0.3202 - accuracy: 0.9427 - val_loss: 0.5913 - val_accuracy: 0.8068\n",
            "Epoch 9/10\n",
            "24/24 [==============================] - 16s 677ms/step - loss: 0.2784 - accuracy: 0.9587 - val_loss: 0.5732 - val_accuracy: 0.8168\n",
            "Epoch 10/10\n",
            "24/24 [==============================] - 18s 761ms/step - loss: 0.2450 - accuracy: 0.9693 - val_loss: 0.5606 - val_accuracy: 0.8192\n"
          ]
        }
      ]
    },
    {
      "cell_type": "code",
      "source": [
        "train_datagen = ImageDataGenerator(rescale = 1/255.,\n",
        "                                        rotation_range=0.2,\n",
        "                                        width_shift_range=0.2,\n",
        "                                        height_shift_range=0.2,\n",
        "                                        shear_range=0.2,\n",
        "                                        zoom_range=0.2)\n",
        "train_data = train_datagen.flow_from_directory(train_dir,\n",
        "                                               batch_size = BATCH_SIZE,\n",
        "                                               class_mode = 'categorical',\n",
        "                                               target_size = IMAGE_SHAPE)\n"
      ],
      "metadata": {
        "colab": {
          "base_uri": "https://localhost:8080/"
        },
        "id": "ldlg3CR9gvLF",
        "outputId": "e249928a-bdc9-4702-c05f-f44907f3d1d3"
      },
      "execution_count": null,
      "outputs": [
        {
          "output_type": "stream",
          "name": "stdout",
          "text": [
            "Found 750 images belonging to 10 classes.\n"
          ]
        }
      ]
    },
    {
      "cell_type": "code",
      "source": [
        "model_4 = create_model(efficientnet,10)\n",
        "model_4.compile(loss = 'categorical_crossentropy',\n",
        "                optimizer = tf.keras.optimizers.Adam(),\n",
        "                metrics = ['accuracy'])\n",
        "hisotry_4 = model_4.fit(train_data, epochs = 10, steps_per_epoch = len(train_data), validation_data = test_data, callbacks = [create_tensorboard_callback(dir_name = 'tensorflow_hub', experiment_name = 'efficient_net_with_augmentation')])"
      ],
      "metadata": {
        "colab": {
          "base_uri": "https://localhost:8080/"
        },
        "id": "nyNCVIuehdHr",
        "outputId": "eb7729ff-e07c-4c67-d46d-92cb295d79f4"
      },
      "execution_count": null,
      "outputs": [
        {
          "output_type": "stream",
          "name": "stdout",
          "text": [
            "Epoch 1/10\n",
            "24/24 [==============================] - 32s 984ms/step - loss: 1.8497 - accuracy: 0.4480 - val_loss: 1.3282 - val_accuracy: 0.6900\n",
            "Epoch 2/10\n",
            "24/24 [==============================] - 23s 965ms/step - loss: 1.1862 - accuracy: 0.7027 - val_loss: 0.9316 - val_accuracy: 0.7776\n",
            "Epoch 3/10\n",
            "24/24 [==============================] - 23s 950ms/step - loss: 0.9012 - accuracy: 0.7760 - val_loss: 0.7510 - val_accuracy: 0.8200\n",
            "Epoch 4/10\n",
            "24/24 [==============================] - 22s 940ms/step - loss: 0.7342 - accuracy: 0.8280 - val_loss: 0.6558 - val_accuracy: 0.8368\n",
            "Epoch 5/10\n",
            "24/24 [==============================] - 22s 945ms/step - loss: 0.6586 - accuracy: 0.8333 - val_loss: 0.5992 - val_accuracy: 0.8488\n",
            "Epoch 6/10\n",
            "24/24 [==============================] - 22s 949ms/step - loss: 0.5870 - accuracy: 0.8413 - val_loss: 0.5524 - val_accuracy: 0.8568\n",
            "Epoch 7/10\n",
            "24/24 [==============================] - 22s 956ms/step - loss: 0.5297 - accuracy: 0.8707 - val_loss: 0.5281 - val_accuracy: 0.8584\n",
            "Epoch 8/10\n",
            "24/24 [==============================] - 22s 944ms/step - loss: 0.4925 - accuracy: 0.8840 - val_loss: 0.5031 - val_accuracy: 0.8624\n",
            "Epoch 9/10\n",
            "24/24 [==============================] - 22s 939ms/step - loss: 0.4518 - accuracy: 0.9000 - val_loss: 0.4864 - val_accuracy: 0.8656\n",
            "Epoch 10/10\n",
            "24/24 [==============================] - 23s 987ms/step - loss: 0.4163 - accuracy: 0.9013 - val_loss: 0.4698 - val_accuracy: 0.8648\n"
          ]
        }
      ]
    }
  ]
}