{
  "cells": [
    {
      "cell_type": "code",
      "execution_count": null,
      "metadata": {
        "id": "lzI4rm2iTpf0"
      },
      "outputs": [],
      "source": [
        "#milestone project one - food vision big\n",
        "!nvidia-smi -L"
      ]
    },
    {
      "cell_type": "code",
      "execution_count": null,
      "metadata": {
        "id": "isP7DyDJWBtz"
      },
      "outputs": [],
      "source": [
        "!wget https://raw.githubusercontent.com/mrdbourke/tensorflow-deep-learning/main/extras/helper_functions.py\n",
        "from helper_functions import make_confusion_matrix, pred_and_plot, plot_loss_curves, compare_historys, unzip_data, walk_through_dir, create_tensorboard_callback"
      ]
    },
    {
      "cell_type": "code",
      "execution_count": null,
      "metadata": {
        "id": "1-Cz-ZUnW4z9"
      },
      "outputs": [],
      "source": [
        "import tensorflow as tf\n",
        "import pandas as pd\n",
        "import numpy as np\n",
        "import matplotlib.pyplot as plt\n",
        "import random"
      ]
    },
    {
      "cell_type": "code",
      "execution_count": null,
      "metadata": {
        "id": "YtDJklijXLph"
      },
      "outputs": [],
      "source": [
        "import tensorflow_datasets as tfds\n",
        "datasets_list = tfds.list_builders()\n",
        "print('food101' in datasets_list)"
      ]
    },
    {
      "cell_type": "code",
      "execution_count": null,
      "metadata": {
        "id": "gdGtxuopXqWs"
      },
      "outputs": [],
      "source": [
        "(train_data, test_data), ds_info = tfds.load(name = 'food101',\n",
        "                                             split = ['train', 'validation'],\n",
        "                                             shuffle_files = True,\n",
        "                                             as_supervised = True,\n",
        "                                             with_info = True)"
      ]
    },
    {
      "cell_type": "code",
      "execution_count": null,
      "metadata": {
        "id": "0vPSaPVAYpT7"
      },
      "outputs": [],
      "source": [
        "#features of food 101\n",
        "class_names = ds_info.features['label'].names\n"
      ]
    },
    {
      "cell_type": "code",
      "execution_count": null,
      "metadata": {
        "id": "2DS9e5rC4i2i"
      },
      "outputs": [],
      "source": [
        "sample = train_data.take(1)\n",
        "sample"
      ]
    },
    {
      "cell_type": "code",
      "execution_count": null,
      "metadata": {
        "id": "QU4G_x0L5QqK"
      },
      "outputs": [],
      "source": [
        "for image, label in sample:\n",
        "  print(image.shape)\n",
        "  print(image.dtype)\n",
        "  print(label)\n",
        "  print(class_names[label.numpy()])"
      ]
    },
    {
      "cell_type": "code",
      "execution_count": null,
      "metadata": {
        "id": "CIWvcIJj6JX_"
      },
      "outputs": [],
      "source": [
        "plt.figure()\n",
        "plt.imshow(image)\n",
        "plt.axis(False)"
      ]
    },
    {
      "cell_type": "code",
      "execution_count": null,
      "metadata": {
        "id": "HnfSiGG66jiH"
      },
      "outputs": [],
      "source": [
        "def preprocess_img(image,label,img_shape = 224):\n",
        "  \"\"\" converts image datatype from uint8 to float32 and reshapes image to imgshape\"\"\"\n",
        "  image = tf.image.resize(image,[img_shape, img_shape])\n",
        "  #you have to rescale if using a particular pretrained model\n",
        "  return tf.cast(image,tf.float32), label"
      ]
    },
    {
      "cell_type": "code",
      "execution_count": null,
      "metadata": {
        "id": "hpjKjSFoY6NU"
      },
      "outputs": [],
      "source": [
        "preprocessed_image = preprocess_img(image,label)[0]\n",
        "print(image[:2], image.dtype)\n",
        "print(preprocessed_image[:2], preprocessed_image.dtype)\n"
      ]
    },
    {
      "cell_type": "code",
      "execution_count": null,
      "metadata": {
        "id": "zSKw3eYZaY3a"
      },
      "outputs": [],
      "source": [
        "#Map preprocesssing function to training (and parallelize)\n",
        "train_data = train_data.map(map_func=preprocess_img, num_parallel_calls = tf.data.AUTOTUNE)\n",
        "train_data = train_data.shuffle(buffer_size = 1000).batch(batch_size = 32).prefetch(buffer_size = tf.data.AUTOTUNE)\n",
        "\n",
        "test_data = test_data.map(map_func=preprocess_img, num_parallel_calls = tf.data.AUTOTUNE).batch(batch_size = 32).prefetch(buffer_size = tf.data.AUTOTUNE)\n"
      ]
    },
    {
      "cell_type": "code",
      "execution_count": null,
      "metadata": {
        "id": "nZxiC9NxftYu"
      },
      "outputs": [],
      "source": [
        "train_data,test_data"
      ]
    },
    {
      "cell_type": "code",
      "execution_count": null,
      "metadata": {
        "id": "Ap80MSKKegW7"
      },
      "outputs": [],
      "source": [
        "#create tensorboard callback\n",
        "\n",
        "from helper_functions import create_tensorboard_callback\n",
        "\n",
        "checkpoint_path = 'model_checkpoint/cp.ckpt'\n",
        "model_checkpoint = tf.keras.callbacks.ModelCheckpoint(checkpoint_path,\n",
        "                                                      monitor = 'vall_acc',\n",
        "                                                      save_best_only = True,\n",
        "                                                      save_weights_only = True,\n",
        "                                                      verbose = 0)\n"
      ]
    },
    {
      "cell_type": "code",
      "execution_count": null,
      "metadata": {
        "id": "-F_Pl-rLi4ho"
      },
      "outputs": [],
      "source": [
        "from tensorflow.keras import mixed_precision\n",
        "mixed_precision.set_global_policy('mixed_float16')"
      ]
    },
    {
      "cell_type": "code",
      "execution_count": null,
      "metadata": {
        "id": "Ly71HS-2ja4T"
      },
      "outputs": [],
      "source": [
        "!nvidia-smi"
      ]
    },
    {
      "cell_type": "code",
      "execution_count": null,
      "metadata": {
        "id": "6xFGJpJ_lJ8n"
      },
      "outputs": [],
      "source": [
        "from tensorflow.keras import layers\n",
        "from tensorflow.keras.layers.experimental import preprocessing\n",
        "\n",
        "input_shape = (224,224,3)\n",
        "base_model = tf.keras.applications.EfficientNetB0(include_top = False)\n",
        "base_model.trainable = False\n",
        "\n",
        "inputs = layers.Input(shape = input_shape, name = 'input_layer')\n",
        "#dont need to rescale - efficientnet\n",
        "x = base_model(inputs, training = False)\n",
        "x = layers.GlobalAveragePooling2D()(x)\n",
        "x = layers.Dense(len(class_names))(x)\n",
        "outputs = layers.Activation('softmax', dtype=tf.float32, name = 'output_layer')(x)\n",
        "model = tf.keras.Model(inputs,outputs)\n",
        "model.compile(loss = 'SparseCategoricalCrossentropy',\n",
        "              optimizer = tf.keras.optimizers.Adam(),\n",
        "              metrics = ['accuracy'])"
      ]
    },
    {
      "cell_type": "code",
      "execution_count": null,
      "metadata": {
        "id": "XSYhRAFMnIO8"
      },
      "outputs": [],
      "source": [
        "for layer in model.layers:\n",
        "  print(layer.name, layer.trainable, layer.dtype, layer.dtype_policy)"
      ]
    },
    {
      "cell_type": "code",
      "execution_count": null,
      "metadata": {
        "colab": {
          "base_uri": "https://localhost:8080/"
        },
        "id": "OSiz6eLao3St",
        "outputId": "af8fc9d3-466d-4903-df85-4c2ad6d148ce"
      },
      "outputs": [
        {
          "output_type": "stream",
          "name": "stdout",
          "text": [
            "Saving TensorBoard log files to: training_logs/efficientnetb0_101_classes_all_data_feature_extract/20221221-100013\n",
            "Epoch 1/3\n",
            "  24/2368 [..............................] - ETA: 102:04:46 - loss: nan - accuracy: 0.0026"
          ]
        }
      ],
      "source": [
        "# Turn off all warnings except for errors\n",
        "tf.get_logger().setLevel('ERROR')\n",
        "\n",
        "# Fit the model with callbacks\n",
        "history_101_food_classes_feature_extract = model.fit(train_data, \n",
        "                                                     epochs=3,\n",
        "                                                     steps_per_epoch=len(train_data),\n",
        "                                                     validation_data=test_data,\n",
        "                                                     validation_steps=int(0.15 * len(test_data)),\n",
        "                                                     callbacks=[create_tensorboard_callback(\"training_logs\", \n",
        "                                                                                            \"efficientnetb0_101_classes_all_data_feature_extract\"),\n",
        "                                                                model_checkpoint])"
      ]
    },
    {
      "cell_type": "code",
      "execution_count": null,
      "metadata": {
        "id": "MkzxoIQ4qbjf"
      },
      "outputs": [],
      "source": []
    },
    {
      "cell_type": "code",
      "execution_count": null,
      "metadata": {
        "id": "UY-zj84rmNrI"
      },
      "outputs": [],
      "source": []
    }
  ],
  "metadata": {
    "accelerator": "GPU",
    "colab": {
      "provenance": []
    },
    "gpuClass": "standard",
    "kernelspec": {
      "display_name": "Python 3",
      "name": "python3"
    },
    "language_info": {
      "name": "python"
    }
  },
  "nbformat": 4,
  "nbformat_minor": 0
}