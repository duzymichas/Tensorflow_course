{
  "nbformat": 4,
  "nbformat_minor": 0,
  "metadata": {
    "colab": {
      "provenance": []
    },
    "kernelspec": {
      "name": "python3",
      "display_name": "Python 3"
    },
    "language_info": {
      "name": "python"
    },
    "accelerator": "GPU",
    "gpuClass": "standard"
  },
  "cells": [
    {
      "cell_type": "code",
      "execution_count": null,
      "metadata": {
        "colab": {
          "base_uri": "https://localhost:8080/"
        },
        "id": "VGnLi7AhoqkA",
        "outputId": "1e599b34-39a8-489a-ad0f-9bae3aa452b1"
      },
      "outputs": [
        {
          "output_type": "stream",
          "name": "stdout",
          "text": [
            "--2022-11-28 13:21:00--  https://raw.githubusercontent.com/mrdbourke/tensorflow-deep-learning/main/extras/helper_functions.py\n",
            "Resolving raw.githubusercontent.com (raw.githubusercontent.com)... 185.199.108.133, 185.199.109.133, 185.199.110.133, ...\n",
            "Connecting to raw.githubusercontent.com (raw.githubusercontent.com)|185.199.108.133|:443... connected.\n",
            "HTTP request sent, awaiting response... 200 OK\n",
            "Length: 10246 (10K) [text/plain]\n",
            "Saving to: ‘helper_functions.py’\n",
            "\n",
            "\rhelper_functions.py   0%[                    ]       0  --.-KB/s               \rhelper_functions.py 100%[===================>]  10.01K  --.-KB/s    in 0s      \n",
            "\n",
            "2022-11-28 13:21:00 (115 MB/s) - ‘helper_functions.py’ saved [10246/10246]\n",
            "\n"
          ]
        }
      ],
      "source": [
        "#Transfer learning with tensorflow - fine tuning\n",
        "!wget https://raw.githubusercontent.com/mrdbourke/tensorflow-deep-learning/main/extras/helper_functions.py\n",
        "from helper_functions import create_tensorboard_callback, plot_loss_curves, unzip_data, walk_through_dir\n"
      ]
    },
    {
      "cell_type": "code",
      "source": [
        "!wget https://storage.googleapis.com/ztm_tf_course/food_vision/10_food_classes_10_percent.zip\n",
        "unzip_data('10_food_classes_10_percent.zip')\n",
        "walk_through_dir('10_food_classes_10_percent')"
      ],
      "metadata": {
        "colab": {
          "base_uri": "https://localhost:8080/"
        },
        "id": "JMZWsCgwtBfp",
        "outputId": "08b0710b-85ff-4159-b6ea-e382f4a3ff1e"
      },
      "execution_count": null,
      "outputs": [
        {
          "output_type": "stream",
          "name": "stdout",
          "text": [
            "--2022-11-28 13:21:03--  https://storage.googleapis.com/ztm_tf_course/food_vision/10_food_classes_10_percent.zip\n",
            "Resolving storage.googleapis.com (storage.googleapis.com)... 142.251.16.128, 142.250.65.80, 172.253.62.128, ...\n",
            "Connecting to storage.googleapis.com (storage.googleapis.com)|142.251.16.128|:443... connected.\n",
            "HTTP request sent, awaiting response... 200 OK\n",
            "Length: 168546183 (161M) [application/zip]\n",
            "Saving to: ‘10_food_classes_10_percent.zip’\n",
            "\n",
            "10_food_classes_10_ 100%[===================>] 160.74M   228MB/s    in 0.7s    \n",
            "\n",
            "2022-11-28 13:21:04 (228 MB/s) - ‘10_food_classes_10_percent.zip’ saved [168546183/168546183]\n",
            "\n",
            "There are 2 directories and 0 images in '10_food_classes_10_percent'.\n",
            "There are 10 directories and 0 images in '10_food_classes_10_percent/train'.\n",
            "There are 0 directories and 75 images in '10_food_classes_10_percent/train/steak'.\n",
            "There are 0 directories and 75 images in '10_food_classes_10_percent/train/chicken_wings'.\n",
            "There are 0 directories and 75 images in '10_food_classes_10_percent/train/ice_cream'.\n",
            "There are 0 directories and 75 images in '10_food_classes_10_percent/train/grilled_salmon'.\n",
            "There are 0 directories and 75 images in '10_food_classes_10_percent/train/pizza'.\n",
            "There are 0 directories and 75 images in '10_food_classes_10_percent/train/sushi'.\n",
            "There are 0 directories and 75 images in '10_food_classes_10_percent/train/hamburger'.\n",
            "There are 0 directories and 75 images in '10_food_classes_10_percent/train/chicken_curry'.\n",
            "There are 0 directories and 75 images in '10_food_classes_10_percent/train/ramen'.\n",
            "There are 0 directories and 75 images in '10_food_classes_10_percent/train/fried_rice'.\n",
            "There are 10 directories and 0 images in '10_food_classes_10_percent/test'.\n",
            "There are 0 directories and 250 images in '10_food_classes_10_percent/test/steak'.\n",
            "There are 0 directories and 250 images in '10_food_classes_10_percent/test/chicken_wings'.\n",
            "There are 0 directories and 250 images in '10_food_classes_10_percent/test/ice_cream'.\n",
            "There are 0 directories and 250 images in '10_food_classes_10_percent/test/grilled_salmon'.\n",
            "There are 0 directories and 250 images in '10_food_classes_10_percent/test/pizza'.\n",
            "There are 0 directories and 250 images in '10_food_classes_10_percent/test/sushi'.\n",
            "There are 0 directories and 250 images in '10_food_classes_10_percent/test/hamburger'.\n",
            "There are 0 directories and 250 images in '10_food_classes_10_percent/test/chicken_curry'.\n",
            "There are 0 directories and 250 images in '10_food_classes_10_percent/test/ramen'.\n",
            "There are 0 directories and 250 images in '10_food_classes_10_percent/test/fried_rice'.\n"
          ]
        }
      ]
    },
    {
      "cell_type": "code",
      "source": [
        "import tensorflow as tf\n",
        "train_dir = '10_food_classes_10_percent/train'\n",
        "test_dir = '10_food_classes_10_percent/test'\n",
        "IMG_SIZE = (224,224)\n",
        "train_data = tf.keras.preprocessing.image_dataset_from_directory(directory = train_dir,\n",
        "                                                         image_size = IMG_SIZE,\n",
        "                                                         label_mode = 'categorical',\n",
        "                                                         batch_size = 32)\n",
        "test_data = tf.keras.preprocessing.image_dataset_from_directory(directory = test_dir,\n",
        "                                                         image_size = IMG_SIZE,\n",
        "                                                         label_mode = 'categorical',\n",
        "                                                         batch_size = 32)"
      ],
      "metadata": {
        "colab": {
          "base_uri": "https://localhost:8080/"
        },
        "id": "dEDcLuA-uCAq",
        "outputId": "1d3cbfd3-6a51-410c-f4bb-8c85cbd37a10"
      },
      "execution_count": null,
      "outputs": [
        {
          "output_type": "stream",
          "name": "stdout",
          "text": [
            "Found 750 files belonging to 10 classes.\n",
            "Found 2500 files belonging to 10 classes.\n"
          ]
        }
      ]
    },
    {
      "cell_type": "code",
      "source": [
        "for images,labels in train_data.take(1):\n",
        "  print(images,labels)"
      ],
      "metadata": {
        "colab": {
          "base_uri": "https://localhost:8080/"
        },
        "id": "PXsMI3oYvFKc",
        "outputId": "b028a342-cb07-4091-b6e7-c4d2cc358400"
      },
      "execution_count": null,
      "outputs": [
        {
          "output_type": "stream",
          "name": "stdout",
          "text": [
            "tf.Tensor(\n",
            "[[[[1.82714294e+02 1.68714294e+02 1.57714294e+02]\n",
            "   [1.86474487e+02 1.72474487e+02 1.61474487e+02]\n",
            "   [1.88785721e+02 1.74785721e+02 1.63785721e+02]\n",
            "   ...\n",
            "   [1.16285713e+02 1.09500008e+02 8.19285965e+01]\n",
            "   [1.18474533e+02 1.12474533e+02 8.64745331e+01]\n",
            "   [1.12658180e+02 1.08658180e+02 8.36581802e+01]]\n",
            "\n",
            "  [[1.84214294e+02 1.70214294e+02 1.57214294e+02]\n",
            "   [1.87005096e+02 1.73005096e+02 1.60005096e+02]\n",
            "   [1.89571426e+02 1.75571426e+02 1.62571426e+02]\n",
            "   ...\n",
            "   [1.18000000e+02 1.11214294e+02 8.56428833e+01]\n",
            "   [1.18928589e+02 1.12928589e+02 8.89285889e+01]\n",
            "   [1.13382668e+02 1.09382668e+02 8.43826675e+01]]\n",
            "\n",
            "  [[1.89428574e+02 1.75785721e+02 1.59785721e+02]\n",
            "   [1.89229599e+02 1.75586731e+02 1.59586731e+02]\n",
            "   [1.89596939e+02 1.75954086e+02 1.59954086e+02]\n",
            "   ...\n",
            "   [1.21382660e+02 1.13811249e+02 9.05969543e+01]\n",
            "   [1.23658195e+02 1.17658195e+02 9.36581955e+01]\n",
            "   [1.20852051e+02 1.16852051e+02 9.18520508e+01]]\n",
            "\n",
            "  ...\n",
            "\n",
            "  [[1.25224564e+02 1.11581772e+02 9.60715179e+01]\n",
            "   [1.17801086e+02 1.01872513e+02 8.56582260e+01]\n",
            "   [1.08719383e+02 9.33826828e+01 7.29795990e+01]\n",
            "   ...\n",
            "   [3.60918007e+01 2.61887684e+01 2.16173878e+01]\n",
            "   [3.45152397e+01 2.41989632e+01 2.17857361e+01]\n",
            "   [3.89490089e+01 2.82245502e+01 2.58725471e+01]]\n",
            "\n",
            "  [[1.19693810e+02 1.06693810e+02 8.96938095e+01]\n",
            "   [1.24438766e+02 1.09438766e+02 9.04387665e+01]\n",
            "   [1.10158173e+02 9.51581726e+01 7.45867386e+01]\n",
            "   ...\n",
            "   [3.94438972e+01 2.94132786e+01 2.76428833e+01]\n",
            "   [4.18673515e+01 3.18571472e+01 3.08622494e+01]\n",
            "   [3.94795570e+01 2.94285278e+01 2.85969257e+01]]\n",
            "\n",
            "  [[1.11101913e+02 9.81019135e+01 8.08467865e+01]\n",
            "   [1.17484566e+02 1.04555992e+02 8.53417130e+01]\n",
            "   [1.11979736e+02 9.76225967e+01 7.64083099e+01]\n",
            "   ...\n",
            "   [3.83367195e+01 2.51325626e+01 2.57754459e+01]\n",
            "   [3.87091255e+01 2.54998779e+01 2.79029598e+01]\n",
            "   [3.98062973e+01 2.60460167e+01 2.86327763e+01]]]\n",
            "\n",
            "\n",
            " [[[1.51000000e+02 1.52000000e+02 1.56000000e+02]\n",
            "   [1.51596939e+02 1.52596939e+02 1.56596939e+02]\n",
            "   [1.51719391e+02 1.52719391e+02 1.56719391e+02]\n",
            "   ...\n",
            "   [1.43960007e+02 1.73801865e+02 1.25521248e+02]\n",
            "   [1.27902878e+02 1.62117203e+02 1.11045761e+02]\n",
            "   [1.05974419e+02 1.44974411e+02 8.99744186e+01]]\n",
            "\n",
            "  [[1.49928574e+02 1.50928574e+02 1.54928574e+02]\n",
            "   [1.49994904e+02 1.50994904e+02 1.54994904e+02]\n",
            "   [1.50928574e+02 1.51928574e+02 1.55928574e+02]\n",
            "   ...\n",
            "   [1.74505493e+02 2.05862701e+02 1.56291229e+02]\n",
            "   [1.13684517e+02 1.47898849e+02 9.68171921e+01]\n",
            "   [1.29642166e+02 1.68550323e+02 1.13596245e+02]]\n",
            "\n",
            "  [[1.49000000e+02 1.50000000e+02 1.54000000e+02]\n",
            "   [1.49198975e+02 1.50198975e+02 1.54198975e+02]\n",
            "   [1.50000000e+02 1.51000000e+02 1.55000000e+02]\n",
            "   ...\n",
            "   [1.26102554e+02 1.57628113e+02 1.07719940e+02]\n",
            "   [1.58250473e+02 1.93082123e+02 1.39679047e+02]\n",
            "   [1.33575104e+02 1.69998672e+02 1.15080215e+02]]\n",
            "\n",
            "  ...\n",
            "\n",
            "  [[9.50714493e+01 9.50714493e+01 9.30714493e+01]\n",
            "   [9.81428680e+01 9.81428680e+01 9.61428680e+01]\n",
            "   [1.01000000e+02 1.01000000e+02 9.90000000e+01]\n",
            "   ...\n",
            "   [1.84045914e+02 1.94428558e+02 1.96428558e+02]\n",
            "   [1.81142853e+02 1.91142853e+02 1.93142853e+02]\n",
            "   [1.78857117e+02 1.88857117e+02 1.90857117e+02]]\n",
            "\n",
            "  [[9.75714493e+01 9.75714493e+01 9.55714493e+01]\n",
            "   [9.89285736e+01 9.89285736e+01 9.69285736e+01]\n",
            "   [9.91428223e+01 9.91428223e+01 9.71428223e+01]\n",
            "   ...\n",
            "   [1.84214264e+02 1.95214264e+02 1.97214264e+02]\n",
            "   [1.82857147e+02 1.92857147e+02 1.94857147e+02]\n",
            "   [1.80903076e+02 1.90903076e+02 1.92903076e+02]]\n",
            "\n",
            "  [[9.72295990e+01 9.72295990e+01 9.52295990e+01]\n",
            "   [9.67602081e+01 9.67602081e+01 9.47602081e+01]\n",
            "   [9.55000076e+01 9.55000076e+01 9.39285812e+01]\n",
            "   ...\n",
            "   [1.82357147e+02 1.93357147e+02 1.95357147e+02]\n",
            "   [1.82331635e+02 1.92331635e+02 1.94331635e+02]\n",
            "   [1.82000000e+02 1.92000000e+02 1.94000000e+02]]]\n",
            "\n",
            "\n",
            " [[[2.54000000e+02 2.54000000e+02 2.54000000e+02]\n",
            "   [2.54000000e+02 2.54000000e+02 2.54000000e+02]\n",
            "   [2.54000000e+02 2.54000000e+02 2.54000000e+02]\n",
            "   ...\n",
            "   [2.54000000e+02 2.54000000e+02 2.54000000e+02]\n",
            "   [2.54000000e+02 2.54000000e+02 2.54000000e+02]\n",
            "   [2.54000000e+02 2.54000000e+02 2.54000000e+02]]\n",
            "\n",
            "  [[2.54000000e+02 2.54000000e+02 2.54000000e+02]\n",
            "   [2.54000000e+02 2.54000000e+02 2.54000000e+02]\n",
            "   [2.54000000e+02 2.54000000e+02 2.54000000e+02]\n",
            "   ...\n",
            "   [2.54000000e+02 2.54000000e+02 2.54000000e+02]\n",
            "   [2.54000000e+02 2.54000000e+02 2.54000000e+02]\n",
            "   [2.54000000e+02 2.54000000e+02 2.54000000e+02]]\n",
            "\n",
            "  [[2.54000000e+02 2.54000000e+02 2.54000000e+02]\n",
            "   [2.54000000e+02 2.54000000e+02 2.54000000e+02]\n",
            "   [2.54000000e+02 2.54000000e+02 2.54000000e+02]\n",
            "   ...\n",
            "   [2.54000000e+02 2.54000000e+02 2.54000000e+02]\n",
            "   [2.54000000e+02 2.54000000e+02 2.54000000e+02]\n",
            "   [2.54000000e+02 2.54000000e+02 2.54000000e+02]]\n",
            "\n",
            "  ...\n",
            "\n",
            "  [[2.54000000e+02 2.54000000e+02 2.54000000e+02]\n",
            "   [2.54000000e+02 2.54000000e+02 2.54000000e+02]\n",
            "   [2.54000000e+02 2.54000000e+02 2.54000000e+02]\n",
            "   ...\n",
            "   [2.54000000e+02 2.54000000e+02 2.54000000e+02]\n",
            "   [2.54000000e+02 2.54000000e+02 2.54000000e+02]\n",
            "   [2.54000000e+02 2.54000000e+02 2.54000000e+02]]\n",
            "\n",
            "  [[2.54000000e+02 2.54000000e+02 2.54000000e+02]\n",
            "   [2.54000000e+02 2.54000000e+02 2.54000000e+02]\n",
            "   [2.54000000e+02 2.54000000e+02 2.54000000e+02]\n",
            "   ...\n",
            "   [2.54000000e+02 2.54000000e+02 2.54000000e+02]\n",
            "   [2.54000000e+02 2.54000000e+02 2.54000000e+02]\n",
            "   [2.54000000e+02 2.54000000e+02 2.54000000e+02]]\n",
            "\n",
            "  [[2.54000000e+02 2.54000000e+02 2.54000000e+02]\n",
            "   [2.54000000e+02 2.54000000e+02 2.54000000e+02]\n",
            "   [2.54000000e+02 2.54000000e+02 2.54000000e+02]\n",
            "   ...\n",
            "   [2.54000000e+02 2.54000000e+02 2.54000000e+02]\n",
            "   [2.54000000e+02 2.54000000e+02 2.54000000e+02]\n",
            "   [2.54000000e+02 2.54000000e+02 2.54000000e+02]]]\n",
            "\n",
            "\n",
            " ...\n",
            "\n",
            "\n",
            " [[[2.53801025e+02 2.53341827e+02 1.65872452e+02]\n",
            "   [2.50974487e+02 2.50663254e+02 1.57836731e+02]\n",
            "   [2.52561218e+02 2.52581635e+02 1.55357147e+02]\n",
            "   ...\n",
            "   [2.54000000e+02 2.54000000e+02 1.80989761e+02]\n",
            "   [2.54000000e+02 2.55000000e+02 1.76806091e+02]\n",
            "   [2.54000000e+02 2.55000000e+02 1.72642822e+02]]\n",
            "\n",
            "  [[2.50505096e+02 2.38025497e+02 1.43045914e+02]\n",
            "   [2.47367340e+02 2.35795914e+02 1.36224472e+02]\n",
            "   [2.53418365e+02 2.40943878e+02 1.38704086e+02]\n",
            "   ...\n",
            "   [2.53000000e+02 2.54000000e+02 1.74285706e+02]\n",
            "   [2.53000000e+02 2.54000000e+02 1.74000000e+02]\n",
            "   [2.53000000e+02 2.55000000e+02 1.72000000e+02]]\n",
            "\n",
            "  [[2.49153061e+02 2.25862244e+02 1.23234695e+02]\n",
            "   [2.44244888e+02 2.18816315e+02 1.15500000e+02]\n",
            "   [2.45020416e+02 2.20331635e+02 1.14117348e+02]\n",
            "   ...\n",
            "   [2.52785721e+02 2.55000000e+02 1.67500046e+02]\n",
            "   [2.52785721e+02 2.54785721e+02 1.71586731e+02]\n",
            "   [2.52785721e+02 2.53785721e+02 1.73938797e+02]]\n",
            "\n",
            "  ...\n",
            "\n",
            "  [[1.47729507e+02 6.84488831e+01 1.89787483e+00]\n",
            "   [1.54673553e+02 7.58725128e+01 9.87251472e+00]\n",
            "   [1.44999878e+02 6.62141113e+01 9.48904991e-01]\n",
            "   ...\n",
            "   [8.06378784e+01 8.92552643e+01 8.83686256e+00]\n",
            "   [5.45050659e+01 6.84336853e+01 0.00000000e+00]\n",
            "   [6.59851303e+01 8.29851303e+01 1.29085693e+01]]\n",
            "\n",
            "  [[1.44637741e+02 6.65204315e+01 6.37806416e-01]\n",
            "   [1.47510284e+02 6.76531448e+01 6.58173943e+00]\n",
            "   [1.47760254e+02 6.33571548e+01 2.61738181e+00]\n",
            "   ...\n",
            "   [9.16580963e+01 1.02403008e+02 9.03061485e+00]\n",
            "   [6.92500534e+01 8.33214951e+01 4.43961620e-01]\n",
            "   [5.40153885e+01 7.10868301e+01 3.21469992e-01]]\n",
            "\n",
            "  [[1.40010040e+02 6.70815735e+01 3.72439957e+00]\n",
            "   [1.48540558e+02 6.97548523e+01 1.25915899e+01]\n",
            "   [1.49004974e+02 5.89947510e+01 2.70907211e+00]\n",
            "   ...\n",
            "   [1.01403328e+02 1.11617592e+02 1.24799204e+01]\n",
            "   [8.31634750e+01 9.82349167e+01 7.42372227e+00]\n",
            "   [7.36988678e+01 9.16988678e+01 6.15806866e+00]]]\n",
            "\n",
            "\n",
            " [[[1.94849960e+02 1.57421402e+02 1.57778534e+02]\n",
            "   [2.23080673e+02 1.86565201e+02 1.86565048e+02]\n",
            "   [2.49104752e+02 2.16958221e+02 2.16672516e+02]\n",
            "   ...\n",
            "   [1.04346039e+02 8.76482162e+01 8.89053802e+01]\n",
            "   [9.18103638e+01 8.12699203e+01 8.00959320e+01]\n",
            "   [8.94947433e+01 7.97329483e+01 7.81375961e+01]]\n",
            "\n",
            "  [[2.36570969e+02 2.16171570e+02 2.14655457e+02]\n",
            "   [2.38884094e+02 2.18725143e+02 2.16487732e+02]\n",
            "   [2.48470032e+02 2.28758789e+02 2.25178253e+02]\n",
            "   ...\n",
            "   [9.36241531e+01 7.98549042e+01 7.99842148e+01]\n",
            "   [8.70481110e+01 7.93727875e+01 7.97539825e+01]\n",
            "   [8.59735336e+01 7.98121796e+01 7.98306732e+01]]\n",
            "\n",
            "  [[2.52838333e+02 2.51319992e+02 2.46280304e+02]\n",
            "   [2.52389999e+02 2.52755096e+02 2.47659927e+02]\n",
            "   [2.52107468e+02 2.50352524e+02 2.45352524e+02]\n",
            "   ...\n",
            "   [8.61834946e+01 7.25518417e+01 7.16991806e+01]\n",
            "   [8.36509781e+01 7.66816635e+01 7.75864792e+01]\n",
            "   [8.48437424e+01 8.04151688e+01 8.12008820e+01]]\n",
            "\n",
            "  ...\n",
            "\n",
            "  [[1.18174568e+02 1.23174568e+02 1.00174568e+02]\n",
            "   [1.17563286e+02 1.22563286e+02 9.95632858e+01]\n",
            "   [1.16287926e+02 1.21287926e+02 9.82879257e+01]\n",
            "   ...\n",
            "   [0.00000000e+00 4.81315536e+01 6.20736694e+01]\n",
            "   [0.00000000e+00 4.97857361e+01 6.30000000e+01]\n",
            "   [0.00000000e+00 4.97857361e+01 6.30000000e+01]]\n",
            "\n",
            "  [[1.15071442e+02 1.20071442e+02 9.80714417e+01]\n",
            "   [1.14555351e+02 1.19555351e+02 9.75553513e+01]\n",
            "   [1.14142883e+02 1.19142883e+02 9.71428833e+01]\n",
            "   ...\n",
            "   [0.00000000e+00 4.92240448e+01 6.22187805e+01]\n",
            "   [0.00000000e+00 5.15553627e+01 6.40714417e+01]\n",
            "   [0.00000000e+00 5.20714417e+01 6.40714417e+01]]\n",
            "\n",
            "  [[1.14761917e+02 1.19761917e+02 9.77619171e+01]\n",
            "   [1.15484161e+02 1.20484161e+02 9.84841614e+01]\n",
            "   [1.16569160e+02 1.21569160e+02 9.95691605e+01]\n",
            "   ...\n",
            "   [0.00000000e+00 5.11473389e+01 6.40736694e+01]\n",
            "   [0.00000000e+00 5.30000000e+01 6.50000000e+01]\n",
            "   [0.00000000e+00 5.30000000e+01 6.50000000e+01]]]\n",
            "\n",
            "\n",
            " [[[6.06989784e+01 3.86989784e+01 1.46989803e+01]\n",
            "   [6.32602043e+01 4.12602043e+01 1.72602043e+01]\n",
            "   [6.07857132e+01 3.87857132e+01 1.47857141e+01]\n",
            "   ...\n",
            "   [8.87193375e+01 6.32908096e+01 3.35050735e+01]\n",
            "   [8.61121979e+01 6.01122017e+01 3.31122017e+01]\n",
            "   [7.57855377e+01 4.97855415e+01 2.27855415e+01]]\n",
            "\n",
            "  [[6.23571396e+01 4.03571396e+01 1.63571434e+01]\n",
            "   [6.31428528e+01 4.11428528e+01 1.71428566e+01]\n",
            "   [5.80714264e+01 3.60714264e+01 1.20714283e+01]\n",
            "   ...\n",
            "   [9.64999390e+01 7.10714111e+01 4.10714073e+01]\n",
            "   [1.00147957e+02 7.51479568e+01 4.50816193e+01]\n",
            "   [9.60203018e+01 7.10203018e+01 4.06886330e+01]]\n",
            "\n",
            "  [[6.11530609e+01 3.91530609e+01 1.61530609e+01]\n",
            "   [6.07704086e+01 3.87704086e+01 1.57704077e+01]\n",
            "   [6.25510216e+01 4.05510216e+01 1.75510216e+01]\n",
            "   ...\n",
            "   [9.77398224e+01 7.24796677e+01 4.11888161e+01]\n",
            "   [9.47142639e+01 7.07142639e+01 3.67142601e+01]\n",
            "   [9.20612411e+01 6.80612411e+01 3.36326714e+01]]\n",
            "\n",
            "  ...\n",
            "\n",
            "  [[6.97091446e+01 2.11376762e+01 4.35193968e+00]\n",
            "   [6.83009949e+01 1.77295246e+01 1.15805244e+00]\n",
            "   [7.07858047e+01 1.82143288e+01 2.16841602e+00]\n",
            "   ...\n",
            "   [3.12601738e+01 1.92601738e+01 5.26017284e+00]\n",
            "   [2.97857361e+01 1.77857361e+01 3.78573608e+00]\n",
            "   [3.01429138e+01 1.81429138e+01 4.14291382e+00]]\n",
            "\n",
            "  [[6.77143478e+01 1.47143507e+01 2.39839837e-01]\n",
            "   [6.90102386e+01 1.60102329e+01 1.42883301e-01]\n",
            "   [7.50561295e+01 1.87550945e+01 1.77040517e+00]\n",
            "   ...\n",
            "   [3.20000000e+01 2.00000000e+01 6.00000000e+00]\n",
            "   [3.09948959e+01 1.89948959e+01 4.99489594e+00]\n",
            "   [3.09285583e+01 1.89285583e+01 4.92855835e+00]]\n",
            "\n",
            "  [[8.55716705e+01 2.95716724e+01 1.45716724e+01]\n",
            "   [7.70051804e+01 2.10051785e+01 4.00517797e+00]\n",
            "   [7.54439011e+01 1.77857132e+01 1.07653809e+00]\n",
            "   ...\n",
            "   [3.20000000e+01 2.00000000e+01 6.00000000e+00]\n",
            "   [2.99285583e+01 1.79285583e+01 3.92855835e+00]\n",
            "   [2.82856445e+01 1.62856445e+01 2.28564453e+00]]]], shape=(32, 224, 224, 3), dtype=float32) tf.Tensor(\n",
            "[[0. 1. 0. 0. 0. 0. 0. 0. 0. 0.]\n",
            " [0. 0. 0. 0. 0. 1. 0. 0. 0. 0.]\n",
            " [0. 0. 0. 0. 0. 1. 0. 0. 0. 0.]\n",
            " [1. 0. 0. 0. 0. 0. 0. 0. 0. 0.]\n",
            " [0. 0. 0. 0. 0. 1. 0. 0. 0. 0.]\n",
            " [0. 1. 0. 0. 0. 0. 0. 0. 0. 0.]\n",
            " [0. 0. 0. 0. 0. 0. 0. 0. 0. 1.]\n",
            " [0. 0. 0. 0. 1. 0. 0. 0. 0. 0.]\n",
            " [0. 0. 0. 0. 1. 0. 0. 0. 0. 0.]\n",
            " [0. 0. 0. 0. 0. 0. 1. 0. 0. 0.]\n",
            " [0. 0. 0. 0. 0. 0. 0. 0. 0. 1.]\n",
            " [0. 0. 0. 0. 1. 0. 0. 0. 0. 0.]\n",
            " [1. 0. 0. 0. 0. 0. 0. 0. 0. 0.]\n",
            " [0. 0. 0. 0. 0. 0. 0. 0. 1. 0.]\n",
            " [0. 0. 0. 0. 0. 0. 0. 1. 0. 0.]\n",
            " [1. 0. 0. 0. 0. 0. 0. 0. 0. 0.]\n",
            " [0. 0. 0. 0. 0. 0. 1. 0. 0. 0.]\n",
            " [0. 0. 0. 0. 0. 0. 0. 0. 1. 0.]\n",
            " [0. 0. 0. 0. 0. 0. 0. 1. 0. 0.]\n",
            " [1. 0. 0. 0. 0. 0. 0. 0. 0. 0.]\n",
            " [0. 0. 0. 0. 0. 0. 0. 0. 0. 1.]\n",
            " [0. 0. 0. 0. 0. 0. 0. 1. 0. 0.]\n",
            " [0. 1. 0. 0. 0. 0. 0. 0. 0. 0.]\n",
            " [0. 0. 0. 0. 0. 1. 0. 0. 0. 0.]\n",
            " [0. 0. 1. 0. 0. 0. 0. 0. 0. 0.]\n",
            " [0. 0. 0. 0. 1. 0. 0. 0. 0. 0.]\n",
            " [0. 0. 0. 1. 0. 0. 0. 0. 0. 0.]\n",
            " [0. 0. 0. 0. 0. 0. 1. 0. 0. 0.]\n",
            " [0. 0. 0. 0. 0. 1. 0. 0. 0. 0.]\n",
            " [0. 0. 0. 1. 0. 0. 0. 0. 0. 0.]\n",
            " [0. 0. 0. 0. 0. 0. 1. 0. 0. 0.]\n",
            " [0. 0. 0. 0. 0. 1. 0. 0. 0. 0.]], shape=(32, 10), dtype=float32)\n"
          ]
        }
      ]
    },
    {
      "cell_type": "code",
      "source": [
        "base_model = tf.keras.applications.EfficientNetB0(include_top = False)\n",
        "\n",
        "base_model.trainable = False\n",
        "inputs = tf.keras.layers.Input(shape = (224,224,3), name = 'input_layer')\n",
        "x = tf.keras.layers.experimental.preprocessing.Rescaling(1./255)(inputs)\n",
        "#normalizing iputs if needed\n",
        "\n",
        "x = base_model(inputs)\n",
        "print(f'shape after passing inputs {x.shape}')\n",
        "x = tf.keras.layers.GlobalAveragePooling2D(name = 'global_average_pooling_layer')(x)\n",
        "print(f'SHape after pooling {x.shape}')\n",
        "outputs = tf.keras.layers.Dense(10,activation = 'softmax', name ='output_layer')(x)"
      ],
      "metadata": {
        "colab": {
          "base_uri": "https://localhost:8080/"
        },
        "id": "_dE-niEvwGO2",
        "outputId": "9a8f17ce-37be-4f13-9735-7135e5d63215"
      },
      "execution_count": null,
      "outputs": [
        {
          "output_type": "stream",
          "name": "stdout",
          "text": [
            "Downloading data from https://storage.googleapis.com/keras-applications/efficientnetb0_notop.h5\n",
            "16705208/16705208 [==============================] - 1s 0us/step\n",
            "shape after passing inputs (None, 7, 7, 1280)\n",
            "SHape after pooling (None, 1280)\n"
          ]
        }
      ]
    },
    {
      "cell_type": "code",
      "source": [
        "model_0 = tf.keras.Model(inputs,outputs)\n",
        "model_0.compile(loss = 'categorical_crossentropy',\n",
        "                   optimizer = tf.keras.optimizers.Adam(),\n",
        "                   metrics = ['accuracy'])\n",
        "history_0 = model_0.fit(train_data,epochs = 10,steps_per_epoch = len(train_data), validation_data = test_data, validation_steps = len(test_data))"
      ],
      "metadata": {
        "colab": {
          "base_uri": "https://localhost:8080/"
        },
        "id": "arUzmabV2gR6",
        "outputId": "989e1687-4f78-4171-fe45-e85788fefe0d"
      },
      "execution_count": null,
      "outputs": [
        {
          "output_type": "stream",
          "name": "stdout",
          "text": [
            "Epoch 1/10\n",
            "24/24 [==============================] - 27s 540ms/step - loss: 1.9302 - accuracy: 0.4120 - val_loss: 1.3395 - val_accuracy: 0.7364\n",
            "Epoch 2/10\n",
            "24/24 [==============================] - 8s 341ms/step - loss: 1.1319 - accuracy: 0.7453 - val_loss: 0.8868 - val_accuracy: 0.8176\n",
            "Epoch 3/10\n",
            "24/24 [==============================] - 9s 351ms/step - loss: 0.8116 - accuracy: 0.8093 - val_loss: 0.7058 - val_accuracy: 0.8452\n",
            "Epoch 4/10\n",
            "24/24 [==============================] - 9s 358ms/step - loss: 0.6494 - accuracy: 0.8653 - val_loss: 0.6138 - val_accuracy: 0.8584\n",
            "Epoch 5/10\n",
            "24/24 [==============================] - 9s 356ms/step - loss: 0.5518 - accuracy: 0.8720 - val_loss: 0.5616 - val_accuracy: 0.8612\n",
            "Epoch 6/10\n",
            "24/24 [==============================] - 8s 336ms/step - loss: 0.4835 - accuracy: 0.8840 - val_loss: 0.5214 - val_accuracy: 0.8672\n",
            "Epoch 7/10\n",
            "24/24 [==============================] - 8s 343ms/step - loss: 0.4305 - accuracy: 0.9080 - val_loss: 0.4933 - val_accuracy: 0.8708\n",
            "Epoch 8/10\n",
            "24/24 [==============================] - 8s 340ms/step - loss: 0.3822 - accuracy: 0.9200 - val_loss: 0.4733 - val_accuracy: 0.8716\n",
            "Epoch 9/10\n",
            "24/24 [==============================] - 9s 389ms/step - loss: 0.3546 - accuracy: 0.9280 - val_loss: 0.4556 - val_accuracy: 0.8716\n",
            "Epoch 10/10\n",
            "24/24 [==============================] - 9s 356ms/step - loss: 0.3201 - accuracy: 0.9493 - val_loss: 0.4430 - val_accuracy: 0.8752\n"
          ]
        }
      ]
    },
    {
      "cell_type": "code",
      "source": [
        "#gettinga feature vector from trained model\n",
        "input_shape = (1,4,4,3)\n",
        "tf.random.set_seed(42)\n",
        "input_tensor = tf.random.normal(input_shape)\n",
        "global_averaged_pooled_tensor = tf.keras.layers.GlobalAveragePooling2D()(input_tensor)"
      ],
      "metadata": {
        "id": "Tsaw7oixM6fS"
      },
      "execution_count": null,
      "outputs": []
    },
    {
      "cell_type": "markdown",
      "source": [
        "Model 0 - basic\n",
        "\n",
        "Model 1 - feature extraction, data augmentation, 1% of the data\n",
        "\n",
        "Model 2 - feature extraction, data augmentation, 10% of the data\n",
        "\n",
        "Model 3 - fine tuning extraction, data augmentation, 10% of the data\n",
        "\n",
        "Model 4 - fine tuning extraction, data augmentation, 100% of the data"
      ],
      "metadata": {
        "id": "vhXiXxwRocvp"
      }
    },
    {
      "cell_type": "code",
      "source": [
        "!wget https://storage.googleapis.com/ztm_tf_course/food_vision/10_food_classes_1_percent.zip\n",
        "unzip_data('10_food_classes_1_percent.zip')"
      ],
      "metadata": {
        "colab": {
          "base_uri": "https://localhost:8080/"
        },
        "id": "dpsJtRKyo58E",
        "outputId": "d2b6e472-9ac3-45c6-94f1-2dbc1f20560a"
      },
      "execution_count": null,
      "outputs": [
        {
          "output_type": "stream",
          "name": "stdout",
          "text": [
            "--2022-11-28 13:21:12--  https://storage.googleapis.com/ztm_tf_course/food_vision/10_food_classes_1_percent.zip\n",
            "Resolving storage.googleapis.com (storage.googleapis.com)... 142.251.16.128, 142.250.65.80, 172.253.62.128, ...\n",
            "Connecting to storage.googleapis.com (storage.googleapis.com)|142.251.16.128|:443... connected.\n",
            "HTTP request sent, awaiting response... 200 OK\n",
            "Length: 133612354 (127M) [application/zip]\n",
            "Saving to: ‘10_food_classes_1_percent.zip’\n",
            "\n",
            "10_food_classes_1_p 100%[===================>] 127.42M   193MB/s    in 0.7s    \n",
            "\n",
            "2022-11-28 13:21:13 (193 MB/s) - ‘10_food_classes_1_percent.zip’ saved [133612354/133612354]\n",
            "\n"
          ]
        }
      ]
    },
    {
      "cell_type": "code",
      "source": [
        "train_dir_1_percent = '10_food_classes_1_percent/train'\n",
        "test_dir_1_percent ='10_food_classes_1_percent/test'\n",
        "walk_through_dir('10_food_classes_1_percent')"
      ],
      "metadata": {
        "colab": {
          "base_uri": "https://localhost:8080/"
        },
        "id": "RZ92h-8spLR8",
        "outputId": "cca1cb92-1221-4296-ac88-9a81f45a42a1"
      },
      "execution_count": null,
      "outputs": [
        {
          "output_type": "stream",
          "name": "stdout",
          "text": [
            "There are 2 directories and 0 images in '10_food_classes_1_percent'.\n",
            "There are 10 directories and 0 images in '10_food_classes_1_percent/train'.\n",
            "There are 0 directories and 7 images in '10_food_classes_1_percent/train/steak'.\n",
            "There are 0 directories and 7 images in '10_food_classes_1_percent/train/chicken_wings'.\n",
            "There are 0 directories and 7 images in '10_food_classes_1_percent/train/ice_cream'.\n",
            "There are 0 directories and 7 images in '10_food_classes_1_percent/train/grilled_salmon'.\n",
            "There are 0 directories and 7 images in '10_food_classes_1_percent/train/pizza'.\n",
            "There are 0 directories and 7 images in '10_food_classes_1_percent/train/sushi'.\n",
            "There are 0 directories and 7 images in '10_food_classes_1_percent/train/hamburger'.\n",
            "There are 0 directories and 7 images in '10_food_classes_1_percent/train/chicken_curry'.\n",
            "There are 0 directories and 7 images in '10_food_classes_1_percent/train/ramen'.\n",
            "There are 0 directories and 7 images in '10_food_classes_1_percent/train/fried_rice'.\n",
            "There are 10 directories and 0 images in '10_food_classes_1_percent/test'.\n",
            "There are 0 directories and 250 images in '10_food_classes_1_percent/test/steak'.\n",
            "There are 0 directories and 250 images in '10_food_classes_1_percent/test/chicken_wings'.\n",
            "There are 0 directories and 250 images in '10_food_classes_1_percent/test/ice_cream'.\n",
            "There are 0 directories and 250 images in '10_food_classes_1_percent/test/grilled_salmon'.\n",
            "There are 0 directories and 250 images in '10_food_classes_1_percent/test/pizza'.\n",
            "There are 0 directories and 250 images in '10_food_classes_1_percent/test/sushi'.\n",
            "There are 0 directories and 250 images in '10_food_classes_1_percent/test/hamburger'.\n",
            "There are 0 directories and 250 images in '10_food_classes_1_percent/test/chicken_curry'.\n",
            "There are 0 directories and 250 images in '10_food_classes_1_percent/test/ramen'.\n",
            "There are 0 directories and 250 images in '10_food_classes_1_percent/test/fried_rice'.\n"
          ]
        }
      ]
    },
    {
      "cell_type": "code",
      "source": [
        "#setup data loaders\n",
        "IMG_SIZE = (224,224)\n",
        "BATCH_SIZE = 32\n",
        "train_data_1_percent = tf.keras.preprocessing.image_dataset_from_directory(directory = train_dir_1_percent,\n",
        "                                                                 label_mode = 'categorical',\n",
        "                                                                 batch_size = BATCH_SIZE,\n",
        "                                                                 image_size = IMG_SIZE)\n",
        "test_data_1_percent = tf.keras.preprocessing.image_dataset_from_directory(directory = test_dir_1_percent,\n",
        "                                                                 label_mode = 'categorical',\n",
        "                                                                 batch_size = BATCH_SIZE,\n",
        "                                                                 image_size = IMG_SIZE)"
      ],
      "metadata": {
        "colab": {
          "base_uri": "https://localhost:8080/"
        },
        "id": "DNKIRnB8pZ63",
        "outputId": "ae136d8a-56c2-4989-a8a2-2fda3634a590"
      },
      "execution_count": null,
      "outputs": [
        {
          "output_type": "stream",
          "name": "stdout",
          "text": [
            "Found 70 files belonging to 10 classes.\n",
            "Found 2500 files belonging to 10 classes.\n"
          ]
        }
      ]
    },
    {
      "cell_type": "code",
      "source": [
        "from tensorflow import keras\n",
        "from tensorflow.keras import layers\n",
        "from tensorflow.keras.layers.experimental import preprocessing\n",
        "\n",
        "#data augmentation stage \n",
        "\n",
        "data_augmentation = keras.Sequential([\n",
        "    preprocessing.RandomFlip('horizontal'),\n",
        "    preprocessing.RandomRotation(0.2),\n",
        "    preprocessing.RandomZoom(0.2),\n",
        "    preprocessing.RandomHeight(0.2),\n",
        "    preprocessing.RandomWidth(0.2)], name = 'data_augmentation')\n"
      ],
      "metadata": {
        "id": "cjpEIT9cqwOT"
      },
      "execution_count": null,
      "outputs": []
    },
    {
      "cell_type": "code",
      "source": [
        "import matplotlib.pyplot as plt\n",
        "import matplotlib.image as mping \n",
        "import os\n",
        "import random\n",
        "target_class = random.choice(train_data_1_percent.class_names)\n",
        "target_dir = '10_food_classes_1_percent/train/'+ target_class\n",
        "random_image = random.choice(os.listdir(target_dir))\n",
        "random_image_path = target_dir + '/' + random_image\n",
        "img = mping.imread(random_image_path)\n",
        "plt.imshow(img)\n",
        "plt.axis(False)\n",
        "\n",
        "augmented_image = data_augmentation(tf.expand_dims(img, axis = 0),training = True)\n",
        "plt.figure()\n",
        "plt.imshow(tf.squeeze(augmented_image)/255.)"
      ],
      "metadata": {
        "colab": {
          "base_uri": "https://localhost:8080/",
          "height": 235
        },
        "id": "Sp-Xol-FusKD",
        "outputId": "f372efcb-2302-47a0-fd78-5ad4dadd0072"
      },
      "execution_count": null,
      "outputs": [
        {
          "output_type": "error",
          "ename": "NameError",
          "evalue": "ignored",
          "traceback": [
            "\u001b[0;31m---------------------------------------------------------------------------\u001b[0m",
            "\u001b[0;31mNameError\u001b[0m                                 Traceback (most recent call last)",
            "\u001b[0;32m<ipython-input-3-046f197ec1f3>\u001b[0m in \u001b[0;36m<module>\u001b[0;34m\u001b[0m\n\u001b[1;32m      3\u001b[0m \u001b[0;32mimport\u001b[0m \u001b[0mos\u001b[0m\u001b[0;34m\u001b[0m\u001b[0;34m\u001b[0m\u001b[0m\n\u001b[1;32m      4\u001b[0m \u001b[0;32mimport\u001b[0m \u001b[0mrandom\u001b[0m\u001b[0;34m\u001b[0m\u001b[0;34m\u001b[0m\u001b[0m\n\u001b[0;32m----> 5\u001b[0;31m \u001b[0mtarget_class\u001b[0m \u001b[0;34m=\u001b[0m \u001b[0mrandom\u001b[0m\u001b[0;34m.\u001b[0m\u001b[0mchoice\u001b[0m\u001b[0;34m(\u001b[0m\u001b[0mtrain_data_1_percent\u001b[0m\u001b[0;34m.\u001b[0m\u001b[0mclass_names\u001b[0m\u001b[0;34m)\u001b[0m\u001b[0;34m\u001b[0m\u001b[0;34m\u001b[0m\u001b[0m\n\u001b[0m\u001b[1;32m      6\u001b[0m \u001b[0mtarget_dir\u001b[0m \u001b[0;34m=\u001b[0m \u001b[0;34m'10_food_classes_1_percent/train/'\u001b[0m\u001b[0;34m+\u001b[0m \u001b[0mtarget_class\u001b[0m\u001b[0;34m\u001b[0m\u001b[0;34m\u001b[0m\u001b[0m\n\u001b[1;32m      7\u001b[0m \u001b[0mrandom_image\u001b[0m \u001b[0;34m=\u001b[0m \u001b[0mrandom\u001b[0m\u001b[0;34m.\u001b[0m\u001b[0mchoice\u001b[0m\u001b[0;34m(\u001b[0m\u001b[0mos\u001b[0m\u001b[0;34m.\u001b[0m\u001b[0mlistdir\u001b[0m\u001b[0;34m(\u001b[0m\u001b[0mtarget_dir\u001b[0m\u001b[0;34m)\u001b[0m\u001b[0;34m)\u001b[0m\u001b[0;34m\u001b[0m\u001b[0;34m\u001b[0m\u001b[0m\n",
            "\u001b[0;31mNameError\u001b[0m: name 'train_data_1_percent' is not defined"
          ]
        }
      ]
    },
    {
      "cell_type": "code",
      "source": [
        "input_shape = (224,224,3)\n",
        "base_model = tf.keras.applications.EfficientNetB0(include_top = False)\n",
        "base_model.trainable = False\n",
        "inputs = layers.Input(shape = input_shape, name = 'input_layer')\n",
        "x = data_augmentation(inputs)\n",
        "x = base_model(x,training = False)\n",
        "x = layers.GlobalAveragePooling2D(name = 'Global_average_pooling')(x)\n",
        "outputs = layers.Dense(10,activation = 'softmax', name = 'output_layer')(x)\n",
        "model_1 = keras.Model(inputs,outputs)\n",
        "model_1.compile(loss = 'categorical_crossentropy',\n",
        "                optimizer = keras.optimizers.Adam(),\n",
        "                metrics = ['accuracy'])\n",
        "history_1 = model_1.fit(train_data_1_percent, epochs = 5, steps_per_epoch = len(train_data_1_percent),validation_data = test_data_1_percent, validation_steps = len(test_data_1_percent), callbacks = create_tensorboard_callback(dir_name = 'tranfer_learning',\n",
        "                                                                                                                                                                                                                                   experiment_name = '1_percent_data_augmented'))"
      ],
      "metadata": {
        "colab": {
          "base_uri": "https://localhost:8080/"
        },
        "id": "8G9dyoyiygV0",
        "outputId": "71612fe6-4eda-4f52-a095-21e11fe952f3"
      },
      "execution_count": null,
      "outputs": [
        {
          "output_type": "stream",
          "name": "stdout",
          "text": [
            "Saving TensorBoard log files to: tranfer_learning/1_percent_data_augmented/20221128-132201\n",
            "Epoch 1/5\n",
            "3/3 [==============================] - 17s 5s/step - loss: 2.3060 - accuracy: 0.0714 - val_loss: 2.2415 - val_accuracy: 0.1484\n",
            "Epoch 2/5\n",
            "3/3 [==============================] - 7s 3s/step - loss: 2.0460 - accuracy: 0.2429 - val_loss: 2.1066 - val_accuracy: 0.2488\n",
            "Epoch 3/5\n",
            "3/3 [==============================] - 7s 3s/step - loss: 1.8778 - accuracy: 0.4143 - val_loss: 1.9845 - val_accuracy: 0.3640\n",
            "Epoch 4/5\n",
            "3/3 [==============================] - 7s 3s/step - loss: 1.6841 - accuracy: 0.5571 - val_loss: 1.8745 - val_accuracy: 0.4620\n",
            "Epoch 5/5\n",
            "3/3 [==============================] - 7s 3s/step - loss: 1.5389 - accuracy: 0.7143 - val_loss: 1.7776 - val_accuracy: 0.5296\n"
          ]
        }
      ]
    },
    {
      "cell_type": "code",
      "source": [
        "model_1.summary()"
      ],
      "metadata": {
        "colab": {
          "base_uri": "https://localhost:8080/"
        },
        "id": "fmjmqEUx03r4",
        "outputId": "e7d16f54-d500-4e10-8d77-c1f277b2e414"
      },
      "execution_count": null,
      "outputs": [
        {
          "output_type": "stream",
          "name": "stdout",
          "text": [
            "Model: \"model_1\"\n",
            "_________________________________________________________________\n",
            " Layer (type)                Output Shape              Param #   \n",
            "=================================================================\n",
            " input_layer (InputLayer)    [(None, 224, 224, 3)]     0         \n",
            "                                                                 \n",
            " data_augmentation (Sequenti  (None, None, None, 3)    0         \n",
            " al)                                                             \n",
            "                                                                 \n",
            " efficientnetb0 (Functional)  (None, None, None, 1280)  4049571  \n",
            "                                                                 \n",
            " Global_average_pooling (Glo  (None, 1280)             0         \n",
            " balAveragePooling2D)                                            \n",
            "                                                                 \n",
            " output_layer (Dense)        (None, 10)                12810     \n",
            "                                                                 \n",
            "=================================================================\n",
            "Total params: 4,062,381\n",
            "Trainable params: 12,810\n",
            "Non-trainable params: 4,049,571\n",
            "_________________________________________________________________\n"
          ]
        }
      ]
    },
    {
      "cell_type": "code",
      "source": [
        "plot_loss_curves(history_1)"
      ],
      "metadata": {
        "colab": {
          "base_uri": "https://localhost:8080/",
          "height": 573
        },
        "id": "xSVbzbjm05bk",
        "outputId": "ca54578e-be8a-4e60-9fb7-abb0e426c724"
      },
      "execution_count": null,
      "outputs": [
        {
          "output_type": "display_data",
          "data": {
            "text/plain": [
              "<Figure size 432x288 with 1 Axes>"
            ],
            "image/png": "[encoded data removed]"
          },
          "metadata": {
            "needs_background": "light"
          }
        },
        {
          "output_type": "display_data",
          "data": {
            "text/plain": [
              "<Figure size 432x288 with 1 Axes>"
            ],
            "image/png": "[encoded data removed]"
          },
          "metadata": {
            "needs_background": "light"
          }
        }
      ]
    },
    {
      "cell_type": "code",
      "source": [
        "#checkpoint path\n",
        "checkpoint_path = 'ten_percent_model_checkpoints_weights/checkpoint.ckpt'\n",
        "checkpoint_callback = tf.keras.callbacks.ModelCheckpoint(filepath = checkpoint_path,\n",
        "                                                         save_weights_only = False,\n",
        "                                                         save_best_only = False,\n",
        "                                                         save_freq = 'epoch',\n",
        "                                                         verbose = 1)\n",
        "\n",
        "inputs2 = layers.Input(shape = input_shape, name = 'input_layer')\n",
        "x = data_augmentation(inputs2)\n",
        "x = base_model(x,training = False)\n",
        "x = layers.GlobalAveragePooling2D(name = 'Global_average_pooling')(x)\n",
        "outputs2 = layers.Dense(10,activation = 'softmax', name = 'output_layer')(x)\n",
        "model_2 = keras.Model(inputs2,outputs2)\n",
        "model_2.compile(loss = 'categorical_crossentropy',\n",
        "                optimizer = keras.optimizers.Adam(),\n",
        "                metrics = ['accuracy'])\n",
        "history_2 = model_2.fit(train_data, epochs = 5, steps_per_epoch = len(train_data),validation_data = test_data, validation_steps = len(test_data), callbacks = [create_tensorboard_callback(dir_name = 'tranfer_learning',experiment_name = '10_percent_data_augmented'),checkpoint_callback])\n",
        "\n"
      ],
      "metadata": {
        "colab": {
          "base_uri": "https://localhost:8080/"
        },
        "id": "E2w1ADVK3NXY",
        "outputId": "436c6ae8-c1fe-4b5d-9804-de7159bbf8ce"
      },
      "execution_count": null,
      "outputs": [
        {
          "metadata": {
            "tags": null
          },
          "name": "stdout",
          "output_type": "stream",
          "text": [
            "Saving TensorBoard log files to: tranfer_learning/10_percent_data_augmented/20221128-141010\n",
            "Epoch 1/5\n",
            "24/24 [==============================] - ETA: 0s - loss: 1.1626 - accuracy: 0.6133\n",
            "Epoch 1: saving model to ten_percent_model_checkpoints_weights/checkpoint.ckpt\n"
          ]
        },
        {
          "metadata": {
            "tags": null
          },
          "name": "stderr",
          "output_type": "stream",
          "text": [
            "WARNING:absl:Found untraced functions such as _jit_compiled_convolution_op, _jit_compiled_convolution_op, _jit_compiled_convolution_op, _jit_compiled_convolution_op, _jit_compiled_convolution_op while saving (showing 5 of 81). These functions will not be directly callable after loading.\n"
          ]
        },
        {
          "metadata": {
            "tags": null
          },
          "name": "stdout",
          "output_type": "stream",
          "text": [
            "24/24 [==============================] - 61s 2s/step - loss: 1.1626 - accuracy: 0.6133 - val_loss: 0.5211 - val_accuracy: 0.8264\n",
            "Epoch 2/5\n",
            "24/24 [==============================] - ETA: 0s - loss: 0.4646 - accuracy: 0.8493\n",
            "Epoch 2: saving model to ten_percent_model_checkpoints_weights/checkpoint.ckpt\n"
          ]
        },
        {
          "metadata": {
            "tags": null
          },
          "name": "stderr",
          "output_type": "stream",
          "text": [
            "WARNING:absl:Found untraced functions such as _jit_compiled_convolution_op, _jit_compiled_convolution_op, _jit_compiled_convolution_op, _jit_compiled_convolution_op, _jit_compiled_convolution_op while saving (showing 5 of 81). These functions will not be directly callable after loading.\n"
          ]
        },
        {
          "output_type": "stream",
          "name": "stdout",
          "text": [
            "24/24 [==============================] - 50s 2s/step - loss: 0.4646 - accuracy: 0.8493 - val_loss: 0.4806 - val_accuracy: 0.8388\n",
            "Epoch 3/5\n",
            "24/24 [==============================] - ETA: 0s - loss: 0.2760 - accuracy: 0.9200\n",
            "Epoch 3: saving model to ten_percent_model_checkpoints_weights/checkpoint.ckpt\n"
          ]
        },
        {
          "output_type": "stream",
          "name": "stderr",
          "text": [
            "WARNING:absl:Found untraced functions such as _jit_compiled_convolution_op, _jit_compiled_convolution_op, _jit_compiled_convolution_op, _jit_compiled_convolution_op, _jit_compiled_convolution_op while saving (showing 5 of 81). These functions will not be directly callable after loading.\n"
          ]
        },
        {
          "output_type": "stream",
          "name": "stdout",
          "text": [
            "\b\b\b\b\b\b\b\b\b\b\b\b\b\b\b\b\b\b\b\b\b\b\b\b\b\b\b\b\b\b\b\b\b\b\b\b\b\b\b\b\b\b\b\b\b\b\b\b\b\b\b\b\b\b\b\b\b\b\b\b\b\b\b\b\b\b\b\b\b\b\b\b\b\b\b\b\b\b\b\b\b\b\r24/24 [==============================] - 52s 2s/step - loss: 0.2760 - accuracy: 0.9200 - val_loss: 0.4441 - val_accuracy: 0.8588\n",
            "Epoch 4/5\n",
            "24/24 [==============================] - ETA: 0s - loss: 0.1836 - accuracy: 0.9480\n",
            "Epoch 4: saving model to ten_percent_model_checkpoints_weights/checkpoint.ckpt\n"
          ]
        },
        {
          "output_type": "stream",
          "name": "stderr",
          "text": [
            "WARNING:absl:Found untraced functions such as _jit_compiled_convolution_op, _jit_compiled_convolution_op, _jit_compiled_convolution_op, _jit_compiled_convolution_op, _jit_compiled_convolution_op while saving (showing 5 of 81). These functions will not be directly callable after loading.\n"
          ]
        },
        {
          "output_type": "stream",
          "name": "stdout",
          "text": [
            "\b\b\b\b\b\b\b\b\b\b\b\b\b\b\b\b\b\b\b\b\b\b\b\b\b\b\b\b\b\b\b\b\b\b\b\b\b\b\b\b\b\b\b\b\b\b\b\b\b\b\b\b\b\b\b\b\b\b\b\b\b\b\b\b\b\b\b\b\b\b\b\b\b\b\b\b\b\b\b\b\b\b\r24/24 [==============================] - 51s 2s/step - loss: 0.1836 - accuracy: 0.9480 - val_loss: 0.4784 - val_accuracy: 0.8464\n",
            "Epoch 5/5\n",
            "24/24 [==============================] - ETA: 0s - loss: 0.1394 - accuracy: 0.9520\n",
            "Epoch 5: saving model to ten_percent_model_checkpoints_weights/checkpoint.ckpt\n"
          ]
        },
        {
          "output_type": "stream",
          "name": "stderr",
          "text": [
            "WARNING:absl:Found untraced functions such as _jit_compiled_convolution_op, _jit_compiled_convolution_op, _jit_compiled_convolution_op, _jit_compiled_convolution_op, _jit_compiled_convolution_op while saving (showing 5 of 81). These functions will not be directly callable after loading.\n"
          ]
        },
        {
          "output_type": "stream",
          "name": "stdout",
          "text": [
            "\b\b\b\b\b\b\b\b\b\b\b\b\b\b\b\b\b\b\b\b\b\b\b\b\b\b\b\b\b\b\b\b\b\b\b\b\b\b\b\b\b\b\b\b\b\b\b\b\b\b\b\b\b\b\b\b\b\b\b\b\b\b\b\b\b\b\b\b\b\b\b\b\b\b\b\b\b\b\b\b\b\b\r24/24 [==============================] - 51s 2s/step - loss: 0.1394 - accuracy: 0.9520 - val_loss: 0.5845 - val_accuracy: 0.8120\n"
          ]
        }
      ]
    },
    {
      "cell_type": "code",
      "source": [
        "#loading in checkpointed weights\n",
        "plot_loss_curves(history_2)\n",
        "model_2. load_weights(checkpoint_path)\n",
        "loaded_model_2_results = model_2.evaluate(test_data)\n",
        "loaded_model_2_results"
      ],
      "metadata": {
        "colab": {
          "base_uri": "https://localhost:8080/",
          "height": 608
        },
        "id": "ent9Hxwc5BRj",
        "outputId": "3213d3a5-0c27-4887-8280-0b2136454ac4"
      },
      "execution_count": null,
      "outputs": [
        {
          "output_type": "stream",
          "name": "stdout",
          "text": [
            "79/79 [==============================] - 7s 76ms/step - loss: 0.4899 - accuracy: 0.8620\n"
          ]
        },
        {
          "output_type": "execute_result",
          "data": {
            "text/plain": [
              "[0.48985418677330017, 0.8619999885559082]"
            ]
          },
          "metadata": {},
          "execution_count": 38
        },
        {
          "output_type": "display_data",
          "data": {
            "text/plain": [
              "<Figure size 432x288 with 1 Axes>"
            ],
            "image/png": "[encoded data removed]"
          },
          "metadata": {
            "needs_background": "light"
          }
        },
        {
          "output_type": "display_data",
          "data": {
            "text/plain": [
              "<Figure size 432x288 with 1 Axes>"
            ],
            "image/png": "[encoded data removed]"
          },
          "metadata": {
            "needs_background": "light"
          }
        }
      ]
    },
    {
      "cell_type": "code",
      "source": [
        "#model 3 - fine tuning\n",
        "#fine tuning usually works best with pre trained feature extractio nmodel for a few epoochs\n",
        "for i,layer in enumerate(model_2.layers[2].layers):\n",
        "  print(i,layer.name,layer.trainable)"
      ],
      "metadata": {
        "colab": {
          "base_uri": "https://localhost:8080/"
        },
        "id": "xVhnU7bjXmk8",
        "outputId": "aeff6acf-47d2-43b3-b301-a4f5a7baf8f7"
      },
      "execution_count": null,
      "outputs": [
        {
          "output_type": "stream",
          "name": "stdout",
          "text": [
            "0 input_2 False\n",
            "1 rescaling_1 False\n",
            "2 normalization_1 False\n",
            "3 tf.math.truediv_1 False\n",
            "4 stem_conv_pad False\n",
            "5 stem_conv False\n",
            "6 stem_bn False\n",
            "7 stem_activation False\n",
            "8 block1a_dwconv False\n",
            "9 block1a_bn False\n",
            "10 block1a_activation False\n",
            "11 block1a_se_squeeze False\n",
            "12 block1a_se_reshape False\n",
            "13 block1a_se_reduce False\n",
            "14 block1a_se_expand False\n",
            "15 block1a_se_excite False\n",
            "16 block1a_project_conv False\n",
            "17 block1a_project_bn False\n",
            "18 block2a_expand_conv False\n",
            "19 block2a_expand_bn False\n",
            "20 block2a_expand_activation False\n",
            "21 block2a_dwconv_pad False\n",
            "22 block2a_dwconv False\n",
            "23 block2a_bn False\n",
            "24 block2a_activation False\n",
            "25 block2a_se_squeeze False\n",
            "26 block2a_se_reshape False\n",
            "27 block2a_se_reduce False\n",
            "28 block2a_se_expand False\n",
            "29 block2a_se_excite False\n",
            "30 block2a_project_conv False\n",
            "31 block2a_project_bn False\n",
            "32 block2b_expand_conv False\n",
            "33 block2b_expand_bn False\n",
            "34 block2b_expand_activation False\n",
            "35 block2b_dwconv False\n",
            "36 block2b_bn False\n",
            "37 block2b_activation False\n",
            "38 block2b_se_squeeze False\n",
            "39 block2b_se_reshape False\n",
            "40 block2b_se_reduce False\n",
            "41 block2b_se_expand False\n",
            "42 block2b_se_excite False\n",
            "43 block2b_project_conv False\n",
            "44 block2b_project_bn False\n",
            "45 block2b_drop False\n",
            "46 block2b_add False\n",
            "47 block3a_expand_conv False\n",
            "48 block3a_expand_bn False\n",
            "49 block3a_expand_activation False\n",
            "50 block3a_dwconv_pad False\n",
            "51 block3a_dwconv False\n",
            "52 block3a_bn False\n",
            "53 block3a_activation False\n",
            "54 block3a_se_squeeze False\n",
            "55 block3a_se_reshape False\n",
            "56 block3a_se_reduce False\n",
            "57 block3a_se_expand False\n",
            "58 block3a_se_excite False\n",
            "59 block3a_project_conv False\n",
            "60 block3a_project_bn False\n",
            "61 block3b_expand_conv False\n",
            "62 block3b_expand_bn False\n",
            "63 block3b_expand_activation False\n",
            "64 block3b_dwconv False\n",
            "65 block3b_bn False\n",
            "66 block3b_activation False\n",
            "67 block3b_se_squeeze False\n",
            "68 block3b_se_reshape False\n",
            "69 block3b_se_reduce False\n",
            "70 block3b_se_expand False\n",
            "71 block3b_se_excite False\n",
            "72 block3b_project_conv False\n",
            "73 block3b_project_bn False\n",
            "74 block3b_drop False\n",
            "75 block3b_add False\n",
            "76 block4a_expand_conv False\n",
            "77 block4a_expand_bn False\n",
            "78 block4a_expand_activation False\n",
            "79 block4a_dwconv_pad False\n",
            "80 block4a_dwconv False\n",
            "81 block4a_bn False\n",
            "82 block4a_activation False\n",
            "83 block4a_se_squeeze False\n",
            "84 block4a_se_reshape False\n",
            "85 block4a_se_reduce False\n",
            "86 block4a_se_expand False\n",
            "87 block4a_se_excite False\n",
            "88 block4a_project_conv False\n",
            "89 block4a_project_bn False\n",
            "90 block4b_expand_conv False\n",
            "91 block4b_expand_bn False\n",
            "92 block4b_expand_activation False\n",
            "93 block4b_dwconv False\n",
            "94 block4b_bn False\n",
            "95 block4b_activation False\n",
            "96 block4b_se_squeeze False\n",
            "97 block4b_se_reshape False\n",
            "98 block4b_se_reduce False\n",
            "99 block4b_se_expand False\n",
            "100 block4b_se_excite False\n",
            "101 block4b_project_conv False\n",
            "102 block4b_project_bn False\n",
            "103 block4b_drop False\n",
            "104 block4b_add False\n",
            "105 block4c_expand_conv False\n",
            "106 block4c_expand_bn False\n",
            "107 block4c_expand_activation False\n",
            "108 block4c_dwconv False\n",
            "109 block4c_bn False\n",
            "110 block4c_activation False\n",
            "111 block4c_se_squeeze False\n",
            "112 block4c_se_reshape False\n",
            "113 block4c_se_reduce False\n",
            "114 block4c_se_expand False\n",
            "115 block4c_se_excite False\n",
            "116 block4c_project_conv False\n",
            "117 block4c_project_bn False\n",
            "118 block4c_drop False\n",
            "119 block4c_add False\n",
            "120 block5a_expand_conv False\n",
            "121 block5a_expand_bn False\n",
            "122 block5a_expand_activation False\n",
            "123 block5a_dwconv False\n",
            "124 block5a_bn False\n",
            "125 block5a_activation False\n",
            "126 block5a_se_squeeze False\n",
            "127 block5a_se_reshape False\n",
            "128 block5a_se_reduce False\n",
            "129 block5a_se_expand False\n",
            "130 block5a_se_excite False\n",
            "131 block5a_project_conv False\n",
            "132 block5a_project_bn False\n",
            "133 block5b_expand_conv False\n",
            "134 block5b_expand_bn False\n",
            "135 block5b_expand_activation False\n",
            "136 block5b_dwconv False\n",
            "137 block5b_bn False\n",
            "138 block5b_activation False\n",
            "139 block5b_se_squeeze False\n",
            "140 block5b_se_reshape False\n",
            "141 block5b_se_reduce False\n",
            "142 block5b_se_expand False\n",
            "143 block5b_se_excite False\n",
            "144 block5b_project_conv False\n",
            "145 block5b_project_bn False\n",
            "146 block5b_drop False\n",
            "147 block5b_add False\n",
            "148 block5c_expand_conv False\n",
            "149 block5c_expand_bn False\n",
            "150 block5c_expand_activation False\n",
            "151 block5c_dwconv False\n",
            "152 block5c_bn False\n",
            "153 block5c_activation False\n",
            "154 block5c_se_squeeze False\n",
            "155 block5c_se_reshape False\n",
            "156 block5c_se_reduce False\n",
            "157 block5c_se_expand False\n",
            "158 block5c_se_excite False\n",
            "159 block5c_project_conv False\n",
            "160 block5c_project_bn False\n",
            "161 block5c_drop False\n",
            "162 block5c_add False\n",
            "163 block6a_expand_conv False\n",
            "164 block6a_expand_bn False\n",
            "165 block6a_expand_activation False\n",
            "166 block6a_dwconv_pad False\n",
            "167 block6a_dwconv False\n",
            "168 block6a_bn False\n",
            "169 block6a_activation False\n",
            "170 block6a_se_squeeze False\n",
            "171 block6a_se_reshape False\n",
            "172 block6a_se_reduce False\n",
            "173 block6a_se_expand False\n",
            "174 block6a_se_excite False\n",
            "175 block6a_project_conv False\n",
            "176 block6a_project_bn False\n",
            "177 block6b_expand_conv False\n",
            "178 block6b_expand_bn False\n",
            "179 block6b_expand_activation False\n",
            "180 block6b_dwconv False\n",
            "181 block6b_bn False\n",
            "182 block6b_activation False\n",
            "183 block6b_se_squeeze False\n",
            "184 block6b_se_reshape False\n",
            "185 block6b_se_reduce False\n",
            "186 block6b_se_expand False\n",
            "187 block6b_se_excite False\n",
            "188 block6b_project_conv False\n",
            "189 block6b_project_bn False\n",
            "190 block6b_drop False\n",
            "191 block6b_add False\n",
            "192 block6c_expand_conv False\n",
            "193 block6c_expand_bn False\n",
            "194 block6c_expand_activation False\n",
            "195 block6c_dwconv False\n",
            "196 block6c_bn False\n",
            "197 block6c_activation False\n",
            "198 block6c_se_squeeze False\n",
            "199 block6c_se_reshape False\n",
            "200 block6c_se_reduce False\n",
            "201 block6c_se_expand False\n",
            "202 block6c_se_excite False\n",
            "203 block6c_project_conv False\n",
            "204 block6c_project_bn False\n",
            "205 block6c_drop False\n",
            "206 block6c_add False\n",
            "207 block6d_expand_conv False\n",
            "208 block6d_expand_bn False\n",
            "209 block6d_expand_activation False\n",
            "210 block6d_dwconv False\n",
            "211 block6d_bn False\n",
            "212 block6d_activation False\n",
            "213 block6d_se_squeeze False\n",
            "214 block6d_se_reshape False\n",
            "215 block6d_se_reduce False\n",
            "216 block6d_se_expand False\n",
            "217 block6d_se_excite False\n",
            "218 block6d_project_conv False\n",
            "219 block6d_project_bn False\n",
            "220 block6d_drop False\n",
            "221 block6d_add False\n",
            "222 block7a_expand_conv False\n",
            "223 block7a_expand_bn False\n",
            "224 block7a_expand_activation False\n",
            "225 block7a_dwconv False\n",
            "226 block7a_bn False\n",
            "227 block7a_activation False\n",
            "228 block7a_se_squeeze False\n",
            "229 block7a_se_reshape False\n",
            "230 block7a_se_reduce False\n",
            "231 block7a_se_expand False\n",
            "232 block7a_se_excite False\n",
            "233 block7a_project_conv False\n",
            "234 block7a_project_bn False\n",
            "235 top_conv False\n",
            "236 top_bn False\n",
            "237 top_activation False\n"
          ]
        }
      ]
    },
    {
      "cell_type": "code",
      "source": [
        "base_model.trainable = True\n",
        "for layer in base_model.layers[:-10]:\n",
        "  layer.trainable = False\n",
        "model_2.compile(loss = 'categorical_crossentropy',\n",
        "                optimizer = tf.keras.optimizers.Adam(lr = 0.0001),\n",
        "                metrics = ['accuracy'])\n"
      ],
      "metadata": {
        "colab": {
          "base_uri": "https://localhost:8080/"
        },
        "id": "fQU11uyRapzv",
        "outputId": "dec05c0d-9a77-47b2-b6b5-87fa2825b907"
      },
      "execution_count": null,
      "outputs": [
        {
          "output_type": "stream",
          "name": "stderr",
          "text": [
            "/usr/local/lib/python3.7/dist-packages/keras/optimizers/optimizer_v2/adam.py:110: UserWarning: The `lr` argument is deprecated, use `learning_rate` instead.\n",
            "  super(Adam, self).__init__(name, **kwargs)\n"
          ]
        }
      ]
    },
    {
      "cell_type": "markdown",
      "source": [
        "When fine tuning lower the learning rate(at least 10x)"
      ],
      "metadata": {
        "id": "ACMk0zQbbpji"
      }
    },
    {
      "cell_type": "code",
      "source": [
        "history_2_fine_tuned = model_2.fit(train_data, epochs = 10, steps_per_epoch = len(train_data),validation_data = test_data, initial_epoch =history_2.epoch[-1], validation_steps = len(test_data), callbacks = [create_tensorboard_callback(dir_name = 'tranfer_learning',experiment_name = 'fine_tuned_10_percent_data_augmented'),checkpoint_callback])"
      ],
      "metadata": {
        "colab": {
          "base_uri": "https://localhost:8080/"
        },
        "id": "SdhaCqFEbwio",
        "outputId": "1889b1e4-f6ae-424b-b77d-bed7904b9554"
      },
      "execution_count": null,
      "outputs": [
        {
          "output_type": "stream",
          "name": "stdout",
          "text": [
            "Saving TensorBoard log files to: tranfer_learning/fine_tuned_10_percent_data_augmented/20221128-133621\n",
            "Epoch 5/10\n",
            "24/24 [==============================] - ETA: 0s - loss: 0.5883 - accuracy: 0.8333\n",
            "Epoch 5: saving model to ten_percent_model_checkpoints_weights/checkpoint.ckpt\n"
          ]
        },
        {
          "output_type": "stream",
          "name": "stderr",
          "text": [
            "WARNING:absl:Found untraced functions such as _jit_compiled_convolution_op, _jit_compiled_convolution_op, _jit_compiled_convolution_op, _jit_compiled_convolution_op, _jit_compiled_convolution_op while saving (showing 5 of 81). These functions will not be directly callable after loading.\n"
          ]
        },
        {
          "output_type": "stream",
          "name": "stdout",
          "text": [
            "\b\b\b\b\b\b\b\b\b\b\b\b\b\b\b\b\b\b\b\b\b\b\b\b\b\b\b\b\b\b\b\b\b\b\b\b\b\b\b\b\b\b\b\b\b\b\b\b\b\b\b\b\b\b\b\b\b\b\b\b\b\b\b\b\b\b\b\b\b\b\b\b\b\b\b\b\b\b\b\b\b\b\r24/24 [==============================] - 88s 4s/step - loss: 0.5883 - accuracy: 0.8333 - val_loss: 0.4793 - val_accuracy: 0.8572\n",
            "Epoch 6/10\n",
            "24/24 [==============================] - ETA: 0s - loss: 0.4968 - accuracy: 0.8507\n",
            "Epoch 6: saving model to ten_percent_model_checkpoints_weights/checkpoint.ckpt\n"
          ]
        },
        {
          "output_type": "stream",
          "name": "stderr",
          "text": [
            "WARNING:absl:Found untraced functions such as _jit_compiled_convolution_op, _jit_compiled_convolution_op, _jit_compiled_convolution_op, _jit_compiled_convolution_op, _jit_compiled_convolution_op while saving (showing 5 of 81). These functions will not be directly callable after loading.\n"
          ]
        },
        {
          "output_type": "stream",
          "name": "stdout",
          "text": [
            "\b\b\b\b\b\b\b\b\b\b\b\b\b\b\b\b\b\b\b\b\b\b\b\b\b\b\b\b\b\b\b\b\b\b\b\b\b\b\b\b\b\b\b\b\b\b\b\b\b\b\b\b\b\b\b\b\b\b\b\b\b\b\b\b\b\b\b\b\b\b\b\b\b\b\b\b\b\b\b\b\b\b\r24/24 [==============================] - 53s 2s/step - loss: 0.4968 - accuracy: 0.8507 - val_loss: 0.4403 - val_accuracy: 0.8608\n",
            "Epoch 7/10\n",
            "24/24 [==============================] - ETA: 0s - loss: 0.4288 - accuracy: 0.8733\n",
            "Epoch 7: saving model to ten_percent_model_checkpoints_weights/checkpoint.ckpt\n"
          ]
        },
        {
          "output_type": "stream",
          "name": "stderr",
          "text": [
            "WARNING:absl:Found untraced functions such as _jit_compiled_convolution_op, _jit_compiled_convolution_op, _jit_compiled_convolution_op, _jit_compiled_convolution_op, _jit_compiled_convolution_op while saving (showing 5 of 81). These functions will not be directly callable after loading.\n"
          ]
        },
        {
          "output_type": "stream",
          "name": "stdout",
          "text": [
            "\b\b\b\b\b\b\b\b\b\b\b\b\b\b\b\b\b\b\b\b\b\b\b\b\b\b\b\b\b\b\b\b\b\b\b\b\b\b\b\b\b\b\b\b\b\b\b\b\b\b\b\b\b\b\b\b\b\b\b\b\b\b\b\b\b\b\b\b\b\b\b\b\b\b\b\b\b\b\b\b\b\b\r24/24 [==============================] - 53s 2s/step - loss: 0.4288 - accuracy: 0.8733 - val_loss: 0.4344 - val_accuracy: 0.8584\n",
            "Epoch 8/10\n",
            "24/24 [==============================] - ETA: 0s - loss: 0.3859 - accuracy: 0.8827\n",
            "Epoch 8: saving model to ten_percent_model_checkpoints_weights/checkpoint.ckpt\n"
          ]
        },
        {
          "output_type": "stream",
          "name": "stderr",
          "text": [
            "WARNING:absl:Found untraced functions such as _jit_compiled_convolution_op, _jit_compiled_convolution_op, _jit_compiled_convolution_op, _jit_compiled_convolution_op, _jit_compiled_convolution_op while saving (showing 5 of 81). These functions will not be directly callable after loading.\n"
          ]
        },
        {
          "output_type": "stream",
          "name": "stdout",
          "text": [
            "\b\b\b\b\b\b\b\b\b\b\b\b\b\b\b\b\b\b\b\b\b\b\b\b\b\b\b\b\b\b\b\b\b\b\b\b\b\b\b\b\b\b\b\b\b\b\b\b\b\b\b\b\b\b\b\b\b\b\b\b\b\b\b\b\b\b\b\b\b\b\b\b\b\b\b\b\b\b\b\b\b\b\r24/24 [==============================] - 54s 2s/step - loss: 0.3859 - accuracy: 0.8827 - val_loss: 0.4256 - val_accuracy: 0.8656\n",
            "Epoch 9/10\n",
            "24/24 [==============================] - ETA: 0s - loss: 0.3517 - accuracy: 0.8987\n",
            "Epoch 9: saving model to ten_percent_model_checkpoints_weights/checkpoint.ckpt\n"
          ]
        },
        {
          "output_type": "stream",
          "name": "stderr",
          "text": [
            "WARNING:absl:Found untraced functions such as _jit_compiled_convolution_op, _jit_compiled_convolution_op, _jit_compiled_convolution_op, _jit_compiled_convolution_op, _jit_compiled_convolution_op while saving (showing 5 of 81). These functions will not be directly callable after loading.\n"
          ]
        },
        {
          "output_type": "stream",
          "name": "stdout",
          "text": [
            "\b\b\b\b\b\b\b\b\b\b\b\b\b\b\b\b\b\b\b\b\b\b\b\b\b\b\b\b\b\b\b\b\b\b\b\b\b\b\b\b\b\b\b\b\b\b\b\b\b\b\b\b\b\b\b\b\b\b\b\b\b\b\b\b\b\b\b\b\b\b\b\b\b\b\b\b\b\b\b\b\b\b\r24/24 [==============================] - 54s 2s/step - loss: 0.3517 - accuracy: 0.8987 - val_loss: 0.4079 - val_accuracy: 0.8704\n",
            "Epoch 10/10\n",
            "24/24 [==============================] - ETA: 0s - loss: 0.3183 - accuracy: 0.9067\n",
            "Epoch 10: saving model to ten_percent_model_checkpoints_weights/checkpoint.ckpt\n"
          ]
        },
        {
          "output_type": "stream",
          "name": "stderr",
          "text": [
            "WARNING:absl:Found untraced functions such as _jit_compiled_convolution_op, _jit_compiled_convolution_op, _jit_compiled_convolution_op, _jit_compiled_convolution_op, _jit_compiled_convolution_op while saving (showing 5 of 81). These functions will not be directly callable after loading.\n"
          ]
        },
        {
          "output_type": "stream",
          "name": "stdout",
          "text": [
            "\b\b\b\b\b\b\b\b\b\b\b\b\b\b\b\b\b\b\b\b\b\b\b\b\b\b\b\b\b\b\b\b\b\b\b\b\b\b\b\b\b\b\b\b\b\b\b\b\b\b\b\b\b\b\b\b\b\b\b\b\b\b\b\b\b\b\b\b\b\b\b\b\b\b\b\b\b\b\b\b\b\b\r24/24 [==============================] - 65s 3s/step - loss: 0.3183 - accuracy: 0.9067 - val_loss: 0.3983 - val_accuracy: 0.8684\n"
          ]
        }
      ]
    },
    {
      "cell_type": "code",
      "source": [
        "def compare_histories(history1, history2,initial_epochs = 5):\n",
        "  acc = history1.history['accuracy']\n",
        "  loss = history1.history['loss']\n",
        "  val_loss = history1.history['val_loss']\n",
        "  val_acc = history1.history['val_accuracy']\n",
        "  total_acc = acc + history2.history['accuracy']\n",
        "  total_loss = loss + history2.history['loss']\n",
        "  total_val_acc = val_acc + history2.history['val_accuracy']\n",
        "  total_val_loss = val_loss + history2.history['val_loss']\n",
        "\n",
        "  plt.figure(figsize = (8,8))\n",
        "  plt.subplot(2,1,1)\n",
        "  plt.plot(total_acc, label = 'Training accuracy')\n",
        "  plt.plot(total_val_acc, label = 'Testing accuracy')\n",
        "  plt.plot([initial_epochs-1,initial_epochs-1], plt.ylim(), label = 'Start Fine Tuning')\n",
        "  plt.legend(loc = 'lower right')\n",
        "  plt.title('Training and validation_accuracy')\n",
        "\n",
        "  plt.subplot(2,1,2)\n",
        "  plt.plot(total_loss, label = 'Training accuracy')\n",
        "  plt.plot(total_val_loss, label = 'Testing accuracy')\n",
        "  plt.plot([initial_epochs-1,initial_epochs-1], plt.ylim(), label = 'Start Fine Tuning')\n",
        "  plt.legend(loc = 'lower right')\n",
        "  plt.title('Training and validation loss')"
      ],
      "metadata": {
        "id": "2JNmQvTgebFV"
      },
      "execution_count": null,
      "outputs": []
    },
    {
      "cell_type": "code",
      "source": [
        "compare_histories(history_2, history_2_fine_tuned)"
      ],
      "metadata": {
        "colab": {
          "base_uri": "https://localhost:8080/",
          "height": 499
        },
        "id": "KHEyqRYGgBz1",
        "outputId": "be0d61d5-9130-4582-dfc9-feaa741da4dd"
      },
      "execution_count": null,
      "outputs": [
        {
          "output_type": "display_data",
          "data": {
            "text/plain": [
              "<Figure size 576x576 with 2 Axes>"
            ],
            "image/png": "[encoded data removed]"
          },
          "metadata": {
            "needs_background": "light"
          }
        }
      ]
    },
    {
      "cell_type": "code",
      "source": [
        "!wget https://storage.googleapis.com/ztm_tf_course/food_vision/10_food_classes_all_data.zip\n",
        "unzip_data('10_food_classes_all_data.zip')\n"
      ],
      "metadata": {
        "colab": {
          "base_uri": "https://localhost:8080/"
        },
        "id": "JqwFEgPahjAr",
        "outputId": "9dbd2ec1-e013-4250-8586-b0777732a55a"
      },
      "execution_count": null,
      "outputs": [
        {
          "output_type": "stream",
          "name": "stdout",
          "text": [
            "--2022-11-28 14:01:14--  https://storage.googleapis.com/ztm_tf_course/food_vision/10_food_classes_all_data.zip\n",
            "Resolving storage.googleapis.com (storage.googleapis.com)... 142.251.16.128, 172.253.62.128, 172.253.115.128, ...\n",
            "Connecting to storage.googleapis.com (storage.googleapis.com)|142.251.16.128|:443... connected.\n",
            "HTTP request sent, awaiting response... 200 OK\n",
            "Length: 519183241 (495M) [application/zip]\n",
            "Saving to: ‘10_food_classes_all_data.zip’\n",
            "\n",
            "10_food_classes_all 100%[===================>] 495.13M   140MB/s    in 3.5s    \n",
            "\n",
            "2022-11-28 14:01:18 (139 MB/s) - ‘10_food_classes_all_data.zip’ saved [519183241/519183241]\n",
            "\n"
          ]
        }
      ]
    },
    {
      "cell_type": "code",
      "source": [
        "train_dir = '10_food_classes_all_data/train'\n",
        "test_dir = '10_food_classes_all_data/test'\n",
        "walk_through_dir('10_food_classes_all_data')"
      ],
      "metadata": {
        "colab": {
          "base_uri": "https://localhost:8080/"
        },
        "id": "06g6VCHVisuV",
        "outputId": "5a61e133-9bc2-4bb0-813b-271ea1abf6f6"
      },
      "execution_count": null,
      "outputs": [
        {
          "output_type": "stream",
          "name": "stdout",
          "text": [
            "There are 2 directories and 0 images in '10_food_classes_all_data'.\n",
            "There are 10 directories and 0 images in '10_food_classes_all_data/train'.\n",
            "There are 0 directories and 750 images in '10_food_classes_all_data/train/steak'.\n",
            "There are 0 directories and 750 images in '10_food_classes_all_data/train/chicken_wings'.\n",
            "There are 0 directories and 750 images in '10_food_classes_all_data/train/ice_cream'.\n",
            "There are 0 directories and 750 images in '10_food_classes_all_data/train/grilled_salmon'.\n",
            "There are 0 directories and 750 images in '10_food_classes_all_data/train/pizza'.\n",
            "There are 0 directories and 750 images in '10_food_classes_all_data/train/sushi'.\n",
            "There are 0 directories and 750 images in '10_food_classes_all_data/train/hamburger'.\n",
            "There are 0 directories and 750 images in '10_food_classes_all_data/train/chicken_curry'.\n",
            "There are 0 directories and 750 images in '10_food_classes_all_data/train/ramen'.\n",
            "There are 0 directories and 750 images in '10_food_classes_all_data/train/fried_rice'.\n",
            "There are 10 directories and 0 images in '10_food_classes_all_data/test'.\n",
            "There are 0 directories and 250 images in '10_food_classes_all_data/test/steak'.\n",
            "There are 0 directories and 250 images in '10_food_classes_all_data/test/chicken_wings'.\n",
            "There are 0 directories and 250 images in '10_food_classes_all_data/test/ice_cream'.\n",
            "There are 0 directories and 250 images in '10_food_classes_all_data/test/grilled_salmon'.\n",
            "There are 0 directories and 250 images in '10_food_classes_all_data/test/pizza'.\n",
            "There are 0 directories and 250 images in '10_food_classes_all_data/test/sushi'.\n",
            "There are 0 directories and 250 images in '10_food_classes_all_data/test/hamburger'.\n",
            "There are 0 directories and 250 images in '10_food_classes_all_data/test/chicken_curry'.\n",
            "There are 0 directories and 250 images in '10_food_classes_all_data/test/ramen'.\n",
            "There are 0 directories and 250 images in '10_food_classes_all_data/test/fried_rice'.\n"
          ]
        }
      ]
    },
    {
      "cell_type": "code",
      "source": [
        "train_data_all= tf.keras.preprocessing.image_dataset_from_directory(directory = train_dir,\n",
        "                                                                 label_mode = 'categorical',\n",
        "                                                                 batch_size = BATCH_SIZE,\n",
        "                                                                 image_size = IMG_SIZE)\n",
        "test_data_all = tf.keras.preprocessing.image_dataset_from_directory(directory = test_dir,\n",
        "                                                                 label_mode = 'categorical',\n",
        "                                                                 batch_size = BATCH_SIZE,\n",
        "                                                                 image_size = IMG_SIZE)"
      ],
      "metadata": {
        "colab": {
          "base_uri": "https://localhost:8080/"
        },
        "id": "_kXUFVpCi76d",
        "outputId": "e7dcda72-4d93-42f8-ca64-75c136a08fa1"
      },
      "execution_count": null,
      "outputs": [
        {
          "output_type": "stream",
          "name": "stdout",
          "text": [
            "Found 7500 files belonging to 10 classes.\n",
            "Found 2500 files belonging to 10 classes.\n"
          ]
        }
      ]
    },
    {
      "cell_type": "code",
      "source": [
        "#load  weights from checkpoint\n",
        "\n",
        "model_2.load_weights(checkpoint_path)\n",
        "model_2.evaluate(test_data)"
      ],
      "metadata": {
        "colab": {
          "base_uri": "https://localhost:8080/"
        },
        "id": "xDEzdyB4jMkX",
        "outputId": "f448f026-2bff-4683-db0d-a334ef10e556"
      },
      "execution_count": null,
      "outputs": [
        {
          "output_type": "stream",
          "name": "stdout",
          "text": [
            "79/79 [==============================] - 6s 73ms/step - loss: 0.5845 - accuracy: 0.8120\n"
          ]
        },
        {
          "output_type": "execute_result",
          "data": {
            "text/plain": [
              "[0.5844652056694031, 0.8119999766349792]"
            ]
          },
          "metadata": {},
          "execution_count": 36
        }
      ]
    },
    {
      "cell_type": "code",
      "source": [
        "model_2.compile(loss = 'categorical_crossentropy',\n",
        "                optimizer = tf.keras.optimizers.Adam(),\n",
        "                metrics = ['accuracy'])\n",
        "history_2_fine_tuned_all_data = model_2.fit(train_data_all, epochs = 10, steps_per_epoch = len(train_data_all),validation_data = test_data_all, initial_epoch =history_2.epoch[-1], validation_steps = len(test_data_all), callbacks = [create_tensorboard_callback(dir_name = 'tranfer_learning',experiment_name = 'fine_tuned_all_data_augmented'),checkpoint_callback])"
      ],
      "metadata": {
        "colab": {
          "base_uri": "https://localhost:8080/"
        },
        "id": "ROafQBjRoXO9",
        "outputId": "9564f927-b70e-42c9-e5c5-3a038a9584fd"
      },
      "execution_count": null,
      "outputs": [
        {
          "output_type": "stream",
          "name": "stdout",
          "text": [
            "Saving TensorBoard log files to: tranfer_learning/fine_tuned_all_data_augmented/20221128-142814\n",
            "Epoch 5/10\n",
            "235/235 [==============================] - ETA: 0s - loss: 0.5744 - accuracy: 0.8188\n",
            "Epoch 5: saving model to ten_percent_model_checkpoints_weights/checkpoint.ckpt\n"
          ]
        },
        {
          "output_type": "stream",
          "name": "stderr",
          "text": [
            "WARNING:absl:Found untraced functions such as _jit_compiled_convolution_op, _jit_compiled_convolution_op, _jit_compiled_convolution_op, _jit_compiled_convolution_op, _jit_compiled_convolution_op while saving (showing 5 of 81). These functions will not be directly callable after loading.\n"
          ]
        },
        {
          "output_type": "stream",
          "name": "stdout",
          "text": [
            "\b\b\b\b\b\b\b\b\b\b\b\b\b\b\b\b\b\b\b\b\b\b\b\b\b\b\b\b\b\b\b\b\b\b\b\b\b\b\b\b\b\b\b\b\b\b\b\b\b\b\b\b\b\b\b\b\b\b\b\b\b\b\b\b\b\b\b\b\b\b\b\b\b\b\b\b\b\b\b\b\b\b\b\b\r235/235 [==============================] - 110s 435ms/step - loss: 0.5744 - accuracy: 0.8188 - val_loss: 0.3039 - val_accuracy: 0.9012\n",
            "Epoch 6/10\n",
            "235/235 [==============================] - ETA: 0s - loss: 0.3967 - accuracy: 0.8691\n",
            "Epoch 6: saving model to ten_percent_model_checkpoints_weights/checkpoint.ckpt\n"
          ]
        },
        {
          "output_type": "stream",
          "name": "stderr",
          "text": [
            "WARNING:absl:Found untraced functions such as _jit_compiled_convolution_op, _jit_compiled_convolution_op, _jit_compiled_convolution_op, _jit_compiled_convolution_op, _jit_compiled_convolution_op while saving (showing 5 of 81). These functions will not be directly callable after loading.\n"
          ]
        },
        {
          "output_type": "stream",
          "name": "stdout",
          "text": [
            "\b\b\b\b\b\b\b\b\b\b\b\b\b\b\b\b\b\b\b\b\b\b\b\b\b\b\b\b\b\b\b\b\b\b\b\b\b\b\b\b\b\b\b\b\b\b\b\b\b\b\b\b\b\b\b\b\b\b\b\b\b\b\b\b\b\b\b\b\b\b\b\b\b\b\b\b\b\b\b\b\b\b\b\b\r235/235 [==============================] - 96s 405ms/step - loss: 0.3967 - accuracy: 0.8691 - val_loss: 0.2881 - val_accuracy: 0.9064\n",
            "Epoch 7/10\n",
            "235/235 [==============================] - ETA: 0s - loss: 0.3278 - accuracy: 0.8948\n",
            "Epoch 7: saving model to ten_percent_model_checkpoints_weights/checkpoint.ckpt\n"
          ]
        },
        {
          "output_type": "stream",
          "name": "stderr",
          "text": [
            "WARNING:absl:Found untraced functions such as _jit_compiled_convolution_op, _jit_compiled_convolution_op, _jit_compiled_convolution_op, _jit_compiled_convolution_op, _jit_compiled_convolution_op while saving (showing 5 of 81). These functions will not be directly callable after loading.\n"
          ]
        },
        {
          "output_type": "stream",
          "name": "stdout",
          "text": [
            "\b\b\b\b\b\b\b\b\b\b\b\b\b\b\b\b\b\b\b\b\b\b\b\b\b\b\b\b\b\b\b\b\b\b\b\b\b\b\b\b\b\b\b\b\b\b\b\b\b\b\b\b\b\b\b\b\b\b\b\b\b\b\b\b\b\b\b\b\b\b\b\b\b\b\b\b\b\b\b\b\b\b\b\b\r235/235 [==============================] - 91s 388ms/step - loss: 0.3278 - accuracy: 0.8948 - val_loss: 0.2638 - val_accuracy: 0.9160\n",
            "Epoch 8/10\n",
            "235/235 [==============================] - ETA: 0s - loss: 0.2682 - accuracy: 0.9117\n",
            "Epoch 8: saving model to ten_percent_model_checkpoints_weights/checkpoint.ckpt\n"
          ]
        },
        {
          "output_type": "stream",
          "name": "stderr",
          "text": [
            "WARNING:absl:Found untraced functions such as _jit_compiled_convolution_op, _jit_compiled_convolution_op, _jit_compiled_convolution_op, _jit_compiled_convolution_op, _jit_compiled_convolution_op while saving (showing 5 of 81). These functions will not be directly callable after loading.\n"
          ]
        },
        {
          "output_type": "stream",
          "name": "stdout",
          "text": [
            "\b\b\b\b\b\b\b\b\b\b\b\b\b\b\b\b\b\b\b\b\b\b\b\b\b\b\b\b\b\b\b\b\b\b\b\b\b\b\b\b\b\b\b\b\b\b\b\b\b\b\b\b\b\b\b\b\b\b\b\b\b\b\b\b\b\b\b\b\b\b\b\b\b\b\b\b\b\b\b\b\b\b\b\b\r235/235 [==============================] - 100s 422ms/step - loss: 0.2682 - accuracy: 0.9117 - val_loss: 0.2803 - val_accuracy: 0.9108\n",
            "Epoch 9/10\n",
            "235/235 [==============================] - ETA: 0s - loss: 0.2188 - accuracy: 0.9283\n",
            "Epoch 9: saving model to ten_percent_model_checkpoints_weights/checkpoint.ckpt\n"
          ]
        },
        {
          "output_type": "stream",
          "name": "stderr",
          "text": [
            "WARNING:absl:Found untraced functions such as _jit_compiled_convolution_op, _jit_compiled_convolution_op, _jit_compiled_convolution_op, _jit_compiled_convolution_op, _jit_compiled_convolution_op while saving (showing 5 of 81). These functions will not be directly callable after loading.\n"
          ]
        },
        {
          "output_type": "stream",
          "name": "stdout",
          "text": [
            "\b\b\b\b\b\b\b\b\b\b\b\b\b\b\b\b\b\b\b\b\b\b\b\b\b\b\b\b\b\b\b\b\b\b\b\b\b\b\b\b\b\b\b\b\b\b\b\b\b\b\b\b\b\b\b\b\b\b\b\b\b\b\b\b\b\b\b\b\b\b\b\b\b\b\b\b\b\b\b\b\b\b\b\b\r235/235 [==============================] - 90s 379ms/step - loss: 0.2188 - accuracy: 0.9283 - val_loss: 0.3036 - val_accuracy: 0.9056\n",
            "Epoch 10/10\n",
            "235/235 [==============================] - ETA: 0s - loss: 0.1946 - accuracy: 0.9348\n",
            "Epoch 10: saving model to ten_percent_model_checkpoints_weights/checkpoint.ckpt\n"
          ]
        },
        {
          "output_type": "stream",
          "name": "stderr",
          "text": [
            "WARNING:absl:Found untraced functions such as _jit_compiled_convolution_op, _jit_compiled_convolution_op, _jit_compiled_convolution_op, _jit_compiled_convolution_op, _jit_compiled_convolution_op while saving (showing 5 of 81). These functions will not be directly callable after loading.\n"
          ]
        },
        {
          "output_type": "stream",
          "name": "stdout",
          "text": [
            "\b\b\b\b\b\b\b\b\b\b\b\b\b\b\b\b\b\b\b\b\b\b\b\b\b\b\b\b\b\b\b\b\b\b\b\b\b\b\b\b\b\b\b\b\b\b\b\b\b\b\b\b\b\b\b\b\b\b\b\b\b\b\b\b\b\b\b\b\b\b\b\b\b\b\b\b\b\b\b\b\b\b\b\b\r235/235 [==============================] - 86s 366ms/step - loss: 0.1946 - accuracy: 0.9348 - val_loss: 0.2706 - val_accuracy: 0.9176\n"
          ]
        }
      ]
    },
    {
      "cell_type": "code",
      "source": [
        "!tensorboard dev upload --logdir ./tranfer_learning\\\n",
        "  --name ' experiment'\\\n",
        "  --description 'comparing models'\\\n",
        "  --one_shot"
      ],
      "metadata": {
        "colab": {
          "base_uri": "https://localhost:8080/"
        },
        "id": "CVYbtUEKqJgM",
        "outputId": "cb686088-b1f8-47ac-aeb8-41918920b986"
      },
      "execution_count": null,
      "outputs": [
        {
          "output_type": "stream",
          "name": "stdout",
          "text": [
            "\n",
            "***** TensorBoard Uploader *****\n",
            "\n",
            "This will upload your TensorBoard logs to https://tensorboard.dev/ from\n",
            "the following directory:\n",
            "\n",
            "./tranfer_learning\n",
            "\n",
            "This TensorBoard will be visible to everyone. Do not upload sensitive\n",
            "data.\n",
            "\n",
            "Your use of this service is subject to Google's Terms of Service\n",
            "<https://policies.google.com/terms> and Privacy Policy\n",
            "<https://policies.google.com/privacy>, and TensorBoard.dev's Terms of Service\n",
            "<https://tensorboard.dev/policy/terms/>.\n",
            "\n",
            "This notice will not be shown again while you are logged into the uploader.\n",
            "To log out, run `tensorboard dev auth revoke`.\n",
            "\n",
            "Continue? (yes/NO) yes\n",
            "\n",
            "Please visit this URL to authorize this application: https://accounts.google.com/o/oauth2/auth?response_type=code&client_id=373649185512-8v619h5kft38l4456nm2dj4ubeqsrvh6.apps.googleusercontent.com&redirect_uri=urn%3Aietf%3Awg%3Aoauth%3A2.0%3Aoob&scope=openid+https%3A%2F%2Fwww.googleapis.com%2Fauth%2Fuserinfo.email&state=GUQrLM9OqW9nkhNoTA7yc9Iba6LWyj&prompt=consent&access_type=offline\n",
            "Enter the authorization code: 4/1AfgeXvvUdv0Wmn9w1TphPPrbw4roNXfTmTdnNeZrpzXVEXdiD3HhOn6gDIk\n",
            "\n",
            "\n",
            "New experiment created. View your TensorBoard at: https://tensorboard.dev/experiment/DDQ5j4LqRP6J00pXDN3nNw/\n",
            "\n",
            "\u001b[1m[2022-11-28T14:45:59]\u001b[0m Started scanning logdir.\n",
            "\u001b[1m[2022-11-28T14:46:04]\u001b[0m Total uploaded: 162 scalars, 0 tensors, 5 binary objects (4.2 MB)\n",
            "\u001b[1m[2022-11-28T14:46:04]\u001b[0m Done scanning logdir.\n",
            "\n",
            "\n",
            "Done. View your TensorBoard at https://tensorboard.dev/experiment/DDQ5j4LqRP6J00pXDN3nNw/\n"
          ]
        }
      ]
    },
    {
      "cell_type": "code",
      "source": [
        "def make_prediction(chosen_class:str):\n",
        "  directory = '10_food_classes_all_data/test/'+ chosen_class\n",
        "  random_image = random.choice(os.listdir(directory))\n",
        "  random_image_path = directory + '/' + random_image\n",
        "  img = mping.imread(random_image_path)\n",
        "  print(img)\n",
        "  plt.imshow(img)\n",
        "  plt.axis(False)\n",
        "  image_test = tf.image.resize(img,(224,224))\n",
        "  print(image_test.shape)\n",
        "  prediction = model_2.predict(tf.expand_dims(image_test,axis = 0))\n",
        "  return prediction\n"
      ],
      "metadata": {
        "id": "o4Zfl158yjrT"
      },
      "execution_count": null,
      "outputs": []
    },
    {
      "cell_type": "code",
      "source": [
        "make_prediction('steak')"
      ],
      "metadata": {
        "colab": {
          "base_uri": "https://localhost:8080/",
          "height": 287
        },
        "id": "5iFe_fTbz651",
        "outputId": "56d30d5d-bdc8-4607-ca95-d46bd0a72601"
      },
      "execution_count": null,
      "outputs": [
        {
          "output_type": "error",
          "ename": "NameError",
          "evalue": "ignored",
          "traceback": [
            "\u001b[0;31m---------------------------------------------------------------------------\u001b[0m",
            "\u001b[0;31mNameError\u001b[0m                                 Traceback (most recent call last)",
            "\u001b[0;32m<ipython-input-2-3ca8ccf6b05d>\u001b[0m in \u001b[0;36m<module>\u001b[0;34m\u001b[0m\n\u001b[0;32m----> 1\u001b[0;31m \u001b[0mmake_prediction\u001b[0m\u001b[0;34m(\u001b[0m\u001b[0;34m'steak'\u001b[0m\u001b[0;34m)\u001b[0m\u001b[0;34m\u001b[0m\u001b[0;34m\u001b[0m\u001b[0m\n\u001b[0m",
            "\u001b[0;32m<ipython-input-1-0f74cfc79272>\u001b[0m in \u001b[0;36mmake_prediction\u001b[0;34m(chosen_class)\u001b[0m\n\u001b[1;32m      1\u001b[0m \u001b[0;32mdef\u001b[0m \u001b[0mmake_prediction\u001b[0m\u001b[0;34m(\u001b[0m\u001b[0mchosen_class\u001b[0m\u001b[0;34m:\u001b[0m\u001b[0mstr\u001b[0m\u001b[0;34m)\u001b[0m\u001b[0;34m:\u001b[0m\u001b[0;34m\u001b[0m\u001b[0;34m\u001b[0m\u001b[0m\n\u001b[1;32m      2\u001b[0m   \u001b[0mdirectory\u001b[0m \u001b[0;34m=\u001b[0m \u001b[0;34m'10_food_classes_all_data/test/'\u001b[0m\u001b[0;34m+\u001b[0m \u001b[0mchosen_class\u001b[0m\u001b[0;34m\u001b[0m\u001b[0;34m\u001b[0m\u001b[0m\n\u001b[0;32m----> 3\u001b[0;31m   \u001b[0mrandom_image\u001b[0m \u001b[0;34m=\u001b[0m \u001b[0mrandom\u001b[0m\u001b[0;34m.\u001b[0m\u001b[0mchoice\u001b[0m\u001b[0;34m(\u001b[0m\u001b[0mos\u001b[0m\u001b[0;34m.\u001b[0m\u001b[0mlistdir\u001b[0m\u001b[0;34m(\u001b[0m\u001b[0mdirectory\u001b[0m\u001b[0;34m)\u001b[0m\u001b[0;34m)\u001b[0m\u001b[0;34m\u001b[0m\u001b[0;34m\u001b[0m\u001b[0m\n\u001b[0m\u001b[1;32m      4\u001b[0m   \u001b[0mrandom_image_path\u001b[0m \u001b[0;34m=\u001b[0m \u001b[0mdirectory\u001b[0m \u001b[0;34m+\u001b[0m \u001b[0;34m'/'\u001b[0m \u001b[0;34m+\u001b[0m \u001b[0mrandom_image\u001b[0m\u001b[0;34m\u001b[0m\u001b[0;34m\u001b[0m\u001b[0m\n\u001b[1;32m      5\u001b[0m   \u001b[0mimg\u001b[0m \u001b[0;34m=\u001b[0m \u001b[0mmping\u001b[0m\u001b[0;34m.\u001b[0m\u001b[0mimread\u001b[0m\u001b[0;34m(\u001b[0m\u001b[0mrandom_image_path\u001b[0m\u001b[0;34m)\u001b[0m\u001b[0;34m\u001b[0m\u001b[0;34m\u001b[0m\u001b[0m\n",
            "\u001b[0;31mNameError\u001b[0m: name 'random' is not defined"
          ]
        }
      ]
    }
  ]
}